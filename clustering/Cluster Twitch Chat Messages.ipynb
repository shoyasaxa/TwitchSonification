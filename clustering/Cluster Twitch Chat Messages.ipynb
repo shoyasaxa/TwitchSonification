{
 "cells": [
  {
   "cell_type": "markdown",
   "id": "substantial-stake",
   "metadata": {},
   "source": [
    "# Step 1: Play Around with Embedding"
   ]
  },
  {
   "cell_type": "markdown",
   "id": "continent-skirt",
   "metadata": {},
   "source": [
    "- Twitch-specific embedding from https://github.com/konstantinkobs/emote-controlled"
   ]
  },
  {
   "cell_type": "code",
   "execution_count": 2,
   "id": "discrete-emperor",
   "metadata": {},
   "outputs": [],
   "source": [
    "import gensim\n",
    "from pathlib import Path\n",
    "import csv\n",
    "import datetime\n",
    "import os\n",
    "from pprint import pprint"
   ]
  },
  {
   "cell_type": "code",
   "execution_count": 3,
   "id": "wrong-handy",
   "metadata": {},
   "outputs": [],
   "source": [
    "model = gensim.models.word2vec.Word2Vec.load('embedding/embedding') # Download this by following the instructions in https://github.com/konstantinkobs/emote-controlled\n",
    "wv = model.wv\n",
    "del model"
   ]
  },
  {
   "cell_type": "code",
   "execution_count": 3,
   "id": "representative-founder",
   "metadata": {},
   "outputs": [
    {
     "name": "stdout",
     "output_type": "stream",
     "text": [
      "Detection of the odd word\n",
      "=========================\n",
      "youtube, twitch, instagram:\n"
     ]
    },
    {
     "name": "stderr",
     "output_type": "stream",
     "text": [
      "/Users/shoyayoshida/opt/anaconda3/envs/py37/lib/python3.7/site-packages/gensim/models/keyedvectors.py:877: FutureWarning: arrays to stack must be passed as a \"sequence\" type such as list or tuple. Support for non-sequence iterables such as generators is deprecated as of NumPy 1.16 and will raise an error in the future.\n",
      "  vectors = vstack(self.word_vec(word, use_norm=True) for word in used_words).astype(REAL)\n"
     ]
    },
    {
     "name": "stdout",
     "output_type": "stream",
     "text": [
      "'instagram'\n",
      "\n",
      "\n",
      "Words that fit in a given context\n",
      "=================================\n",
      "monday, tuesday, wednesday:\n",
      "[('thursday', 0.957784116268158),\n",
      " ('saturday', 0.9165282249450684),\n",
      " ('sunday', 0.907137393951416),\n",
      " ('friday', 0.8335966467857361),\n",
      " ('tomorrow', 0.7105388045310974),\n",
      " ('thurs', 0.6839190721511841),\n",
      " ('2pm', 0.6446587443351746),\n",
      " ('wed', 0.6399438977241516),\n",
      " ('fridays', 0.6398335695266724),\n",
      " ('thursdays', 0.6396904587745667)]\n",
      "\n",
      "\n",
      "Word relations\n",
      "==============\n",
      "Man relates to Woman as King to ...:\n",
      "[('queen', 0.9875077605247498),\n",
      " ('princess', 0.9762540459632874),\n",
      " ('prince', 0.9511711597442627),\n",
      " ('murderer', 0.9334142208099365),\n",
      " ('shepard', 0.9321715831756592),\n",
      " ('goddess', 0.9280776977539062),\n",
      " ('lizard', 0.9277330636978149),\n",
      " ('lion', 0.9205520749092102),\n",
      " ('crow', 0.9201782941818237),\n",
      " ('bird', 0.9195780158042908)]\n",
      "\n",
      "\n",
      "Emote intensifications\n",
      "======================\n",
      "LUL relates to OMEGALUL as FeelsGoodMan to ...:\n",
      "[('feelsamazingman', 0.9217232465744019),\n",
      " ('and', 0.8582755327224731),\n",
      " ('Clap', 0.856436550617218),\n",
      " ('also', 0.8555846810340881),\n",
      " ('FeelsBadMan', 0.8419504761695862),\n",
      " ('or', 0.8345403671264648),\n",
      " ('now', 0.8295789957046509),\n",
      " ('Pog', 0.8294469714164734),\n",
      " ('forsen', 0.8234848380088806),\n",
      " ('today', 0.8233007192611694)]\n"
     ]
    }
   ],
   "source": [
    "# Examples from https://github.com/konstantinkobs/emote-controlled/blob/master/query_embedding.py\n",
    "\n",
    "print(\"Detection of the odd word\")\n",
    "print(\"=========================\")\n",
    "print(\"youtube, twitch, instagram:\")\n",
    "pprint(wv.doesnt_match(\"youtube twitch instagram\".split(\" \")))\n",
    "print(\"\\n\")\n",
    "\n",
    "###############################################\n",
    "## Task 2: Words that fit in a given context ##\n",
    "###############################################\n",
    "\n",
    "print(\"Words that fit in a given context\")\n",
    "print(\"=================================\")\n",
    "print(\"monday, tuesday, wednesday:\")\n",
    "pprint(wv.most_similar_cosmul(\"monday tuesday wednesday\".split(\" \")))\n",
    "print(\"\\n\")\n",
    "\n",
    "############################\n",
    "## Task 3: Word relations ##\n",
    "############################\n",
    "\n",
    "print(\"Word relations\")\n",
    "print(\"==============\")\n",
    "print(\"Man relates to Woman as King to ...:\")\n",
    "pprint(wv.most_similar_cosmul(positive=['king', 'woman'], negative=['man']))\n",
    "print(\"\\n\")\n",
    "\n",
    "###################################\n",
    "## Task 4: Emote intensification ##\n",
    "###################################\n",
    "\n",
    "print(\"Emote intensifications\")\n",
    "print(\"======================\")\n",
    "print(\"LUL relates to OMEGALUL as FeelsGoodMan to ...:\")\n",
    "pprint(wv.most_similar_cosmul(positive=['OMEGALUL', 'FeelsGoodMan'], negative=['LUL']))"
   ]
  },
  {
   "cell_type": "code",
   "execution_count": 48,
   "id": "smart-consultation",
   "metadata": {},
   "outputs": [
    {
     "data": {
      "text/plain": [
       "[('pagchomp', 0.9152676463127136),\n",
       " ('POGGERS', 0.891425371170044),\n",
       " ('pogu', 0.8613439202308655),\n",
       " ('pog', 0.854174017906189),\n",
       " ('OMEGALUL', 0.852812647819519),\n",
       " ('forsen', 0.843866229057312),\n",
       " ('LULW', 0.8396608829498291),\n",
       " ('😡', 0.8323566913604736),\n",
       " ('and', 0.8260712027549744),\n",
       " ('.', 0.8258836269378662)]"
      ]
     },
     "execution_count": 48,
     "metadata": {},
     "output_type": "execute_result"
    }
   ],
   "source": [
    "wv.most_similar_cosmul(positive=['Pog'])"
   ]
  },
  {
   "cell_type": "markdown",
   "id": "demanding-payroll",
   "metadata": {},
   "source": [
    "# Step 2: Clustering "
   ]
  },
  {
   "cell_type": "markdown",
   "id": "proved-server",
   "metadata": {},
   "source": [
    "Chat Messages Downloaded: \n",
    "- Riot Games (LoL)\n",
    "    - https://www.twitch.tv/videos/770925254?filter=all&sort=views\n",
    "    - https://www.twitch.tv/videos/756260657?filter=all&sort=views\n",
    "    \n",
    "- xQcOW (MineCraft)\n",
    "    - https://www.twitch.tv/videos/911761347?filter=all&sort=views \n",
    "    - https://www.twitch.tv/videos/893334860?filter=all&sort=views \n",
    "    \n",
    "- Sykkuno (Among Us, Valorant)\n",
    "    - https://www.twitch.tv/videos/894695595?filter=all&sort=views\n",
    "    - https://www.twitch.tv/videos/914368342?filter=all&sort=views\n",
    "    \n",
    "\n",
    "- The original paper used streams from forsen, moonmoon_ow, riotgames, sodapoppin, and xqcow for their task of sentiment analysis. \n",
    "\n",
    "Clustering: \n",
    "    \n",
    "- We will use HDBSCAN since it doesn't require a pre-decided number of clusters, and it is very efficient (all the other ones take a millenium to finish). "
   ]
  },
  {
   "cell_type": "code",
   "execution_count": 1,
   "id": "unlimited-company",
   "metadata": {},
   "outputs": [],
   "source": [
    "import sys\n",
    "sys.path.append(\"../utils\") \n",
    "from twitch_tokenizer import TwitchTokenizer\n",
    "from srt import srt2df\n",
    "import os \n",
    "import numpy as np \n",
    "import pandas as pd "
   ]
  },
  {
   "cell_type": "code",
   "execution_count": 13,
   "id": "verbal-boulder",
   "metadata": {
    "scrolled": true
   },
   "outputs": [
    {
     "name": "stdout",
     "output_type": "stream",
     "text": [
      "riot_games_LoL 756260657.srt 88886\n",
      "riot_games_LoL 770925254.srt 94732\n",
      "xQcOW_minecraft 911761347.srt 293815\n",
      "xQcOW_minecraft 893334860.srt 299324\n",
      "sykkuno_amongus_valorant 894695595.srt 75665\n",
      "sykkuno_amongus_valorant 914368342.srt 97726\n"
     ]
    }
   ],
   "source": [
    "data_dir = '../data/chat'\n",
    "for channel in os.listdir(data_dir):\n",
    "    if channel != '.DS_Store':\n",
    "        for srt_file in os.listdir(os.path.join(data_dir,channel)):\n",
    "            if srt_file != '.DS_Store':\n",
    "                df = srt2df(os.path.join(data_dir,channel,srt_file))\n",
    "                print(channel,srt_file, df.shape[0])"
   ]
  },
  {
   "cell_type": "code",
   "execution_count": 4,
   "id": "loose-mayor",
   "metadata": {},
   "outputs": [
    {
     "data": {
      "text/html": [
       "<div>\n",
       "<style scoped>\n",
       "    .dataframe tbody tr th:only-of-type {\n",
       "        vertical-align: middle;\n",
       "    }\n",
       "\n",
       "    .dataframe tbody tr th {\n",
       "        vertical-align: top;\n",
       "    }\n",
       "\n",
       "    .dataframe thead th {\n",
       "        text-align: right;\n",
       "    }\n",
       "</style>\n",
       "<table border=\"1\" class=\"dataframe\">\n",
       "  <thead>\n",
       "    <tr style=\"text-align: right;\">\n",
       "      <th></th>\n",
       "      <th>message</th>\n",
       "      <th>start_time</th>\n",
       "    </tr>\n",
       "  </thead>\n",
       "  <tbody>\n",
       "    <tr>\n",
       "      <th>0</th>\n",
       "      <td>PauseChamp</td>\n",
       "      <td>00:00:08.310000</td>\n",
       "    </tr>\n",
       "    <tr>\n",
       "      <th>1</th>\n",
       "      <td>catJAM catJAM catJAM catJAM catJAM catJAM catJ...</td>\n",
       "      <td>00:00:09.845000</td>\n",
       "    </tr>\n",
       "    <tr>\n",
       "      <th>2</th>\n",
       "      <td>STARTFARM BBY</td>\n",
       "      <td>00:00:18.481000</td>\n",
       "    </tr>\n",
       "    <tr>\n",
       "      <th>3</th>\n",
       "      <td>aqyyyye</td>\n",
       "      <td>00:00:32.686000</td>\n",
       "    </tr>\n",
       "    <tr>\n",
       "      <th>4</th>\n",
       "      <td>FIRST</td>\n",
       "      <td>00:00:36.784000</td>\n",
       "    </tr>\n",
       "    <tr>\n",
       "      <th>...</th>\n",
       "      <td>...</td>\n",
       "      <td>...</td>\n",
       "    </tr>\n",
       "    <tr>\n",
       "      <th>89719</th>\n",
       "      <td>@Azufre23 Well TSM and TL might make it out</td>\n",
       "      <td>07:38:42.115000</td>\n",
       "    </tr>\n",
       "    <tr>\n",
       "      <th>89720</th>\n",
       "      <td>even when lck doesn't win worlds they still us...</td>\n",
       "      <td>07:38:46.566000</td>\n",
       "    </tr>\n",
       "    <tr>\n",
       "      <th>89721</th>\n",
       "      <td>IF YOU WOULD BE SO ENTUSIASM FOR WORLD HUNGER ...</td>\n",
       "      <td>07:38:47.159000</td>\n",
       "    </tr>\n",
       "    <tr>\n",
       "      <th>89722</th>\n",
       "      <td>♿ MAKE WAY NA PASSING BY ♿ DIDN'T GET OUT OF G...</td>\n",
       "      <td>07:38:48.241000</td>\n",
       "    </tr>\n",
       "    <tr>\n",
       "      <th>89723</th>\n",
       "      <td>NA: not american</td>\n",
       "      <td>07:38:49.632000</td>\n",
       "    </tr>\n",
       "  </tbody>\n",
       "</table>\n",
       "<p>88886 rows × 2 columns</p>\n",
       "</div>"
      ],
      "text/plain": [
       "                                                 message       start_time\n",
       "0                                             PauseChamp  00:00:08.310000\n",
       "1      catJAM catJAM catJAM catJAM catJAM catJAM catJ...  00:00:09.845000\n",
       "2                                          STARTFARM BBY  00:00:18.481000\n",
       "3                                                aqyyyye  00:00:32.686000\n",
       "4                                                  FIRST  00:00:36.784000\n",
       "...                                                  ...              ...\n",
       "89719        @Azufre23 Well TSM and TL might make it out  07:38:42.115000\n",
       "89720  even when lck doesn't win worlds they still us...  07:38:46.566000\n",
       "89721  IF YOU WOULD BE SO ENTUSIASM FOR WORLD HUNGER ...  07:38:47.159000\n",
       "89722  ♿ MAKE WAY NA PASSING BY ♿ DIDN'T GET OUT OF G...  07:38:48.241000\n",
       "89723                                   NA: not american  07:38:49.632000\n",
       "\n",
       "[88886 rows x 2 columns]"
      ]
     },
     "execution_count": 4,
     "metadata": {},
     "output_type": "execute_result"
    }
   ],
   "source": [
    "df = srt2df('../data/chat/riot_games_LoL/756260657.srt')\n",
    "df"
   ]
  },
  {
   "cell_type": "code",
   "execution_count": 26,
   "id": "injured-tobago",
   "metadata": {},
   "outputs": [],
   "source": [
    "from sklearn.decomposition import PCA\n",
    "from matplotlib import pyplot as plt \n",
    "from tqdm import tqdm\n",
    "from sklearn.preprocessing import StandardScaler\n",
    "from sklearn.cluster import DBSCAN, OPTICS\n",
    "import hdbscan\n",
    "\n",
    "class ChatVisualizer:\n",
    "    def __init__(self,srt_paths,wv):\n",
    "        self.srt_paths = srt_paths\n",
    "        self.wv = wv \n",
    "        self.tokenizer = TwitchTokenizer()\n",
    "        self.clusterer = hdbscan.HDBSCAN(min_samples=20)\n",
    "        \n",
    "        self.embeddings = [] \n",
    "        self.messages_processed = [] \n",
    "        \n",
    "        self._process_messages()\n",
    "        self._process_embedding()\n",
    "        self._cluster_embedding()\n",
    "        self._visualize_embedding()\n",
    "        \n",
    "    def _process_messages(self):\n",
    "        print(\"Processing Messages...\")\n",
    "        seen_messages = set()\n",
    "        for srt_path in self.srt_paths:\n",
    "            print(\"Reading in {}\".format(srt_path))\n",
    "            df = srt2df(srt_path)\n",
    "            for message in tqdm(df['message'].values):\n",
    "                msg_tmp = [] \n",
    "                embeddings_tmp = []\n",
    "                for token in self.tokenizer.tokenize(message):\n",
    "                    if token in wv:\n",
    "                        msg_tmp.append(token)\n",
    "                        embeddings_tmp.append(wv['token'])\n",
    "    \n",
    "                if len(msg_tmp) > 0:\n",
    "                    msg_concat = ' '.join(msg_tmp)\n",
    "                    if msg_concat not in seen_messages:\n",
    "                        self.messages_processed.append(' '.join(msg_tmp))\n",
    "                        self.embeddings.append(np.mean(embeddings_tmp,axis=0))            \n",
    "                        seen_messages.add(msg_concat)\n",
    "        self.embeddings = np.stack(self.embeddings)\n",
    "        print(\"Embedding: {}\".format(self.embeddings.shape))\n",
    "        \n",
    "    def _process_embedding(self):\n",
    "        print(\"Projecting Embedding into 2D...\")\n",
    "        pca = PCA(n_components=2)\n",
    "        self.embeddings2d = StandardScaler().fit_transform(pca.fit_transform(self.embeddings))\n",
    "        \n",
    "    def _cluster_embedding(self):\n",
    "        print(\"Clustering Messages...\")\n",
    "        self.clusterer.fit(self.embeddings2d)\n",
    "    \n",
    "    def _visualize_embedding(self):\n",
    "        print(\"Visualizing...\")\n",
    "        fig, ax = plt.subplots(figsize=(8,8))\n",
    "        ax.scatter(self.embeddings2d[:,0],self.embeddings2d[:,1],c=self.clusterer.labels_)\n",
    "        plt.show();\n",
    "                \n",
    "                \n",
    "        "
   ]
  },
  {
   "cell_type": "code",
   "execution_count": 27,
   "id": "outstanding-papua",
   "metadata": {},
   "outputs": [
    {
     "name": "stdout",
     "output_type": "stream",
     "text": [
      "Processing Messages...\n",
      "Reading in ../data/chat/riot_games_LoL/756260657.srt\n"
     ]
    },
    {
     "name": "stderr",
     "output_type": "stream",
     "text": [
      "100%|██████████| 88886/88886 [00:09<00:00, 9778.49it/s] \n"
     ]
    },
    {
     "name": "stdout",
     "output_type": "stream",
     "text": [
      "Reading in ../data/chat/riot_games_LoL/770925254.srt\n"
     ]
    },
    {
     "name": "stderr",
     "output_type": "stream",
     "text": [
      "100%|██████████| 94732/94732 [00:06<00:00, 13825.13it/s]\n"
     ]
    },
    {
     "name": "stdout",
     "output_type": "stream",
     "text": [
      "Embedding: (68237, 128)\n",
      "Projecting Embedding into 2D...\n",
      "Clustering Messages...\n",
      "Visualizing...\n"
     ]
    },
    {
     "data": {
      "image/png": "[encoded data removed]",
      "text/plain": [
       "<Figure size 576x576 with 1 Axes>"
      ]
     },
     "metadata": {
      "needs_background": "light"
     },
     "output_type": "display_data"
    }
   ],
   "source": [
    "vis1 = ChatVisualizer(['../data/chat/riot_games_LoL/756260657.srt','../data/chat/riot_games_LoL/770925254.srt' ],wv);"
   ]
  },
  {
   "cell_type": "code",
   "execution_count": 28,
   "id": "religious-czech",
   "metadata": {},
   "outputs": [
    {
     "name": "stdout",
     "output_type": "stream",
     "text": [
      "Processing Messages...\n",
      "Reading in ../data/chat/xQcOW_minecraft/893334860.srt\n"
     ]
    },
    {
     "name": "stderr",
     "output_type": "stream",
     "text": [
      "100%|██████████| 299324/299324 [00:14<00:00, 20714.84it/s]\n"
     ]
    },
    {
     "name": "stdout",
     "output_type": "stream",
     "text": [
      "Reading in ../data/chat/xQcOW_minecraft/911761347.srt\n"
     ]
    },
    {
     "name": "stderr",
     "output_type": "stream",
     "text": [
      "100%|██████████| 293815/293815 [00:15<00:00, 19396.98it/s]\n"
     ]
    },
    {
     "name": "stdout",
     "output_type": "stream",
     "text": [
      "Embedding: (181067, 128)\n",
      "Projecting Embedding into 2D...\n",
      "Clustering Messages...\n",
      "Visualizing...\n"
     ]
    },
    {
     "data": {
      "image/png": "[encoded data removed]",
      "text/plain": [
       "<Figure size 576x576 with 1 Axes>"
      ]
     },
     "metadata": {
      "needs_background": "light"
     },
     "output_type": "display_data"
    }
   ],
   "source": [
    "vis2 = ChatVisualizer(['../data/chat/xQcOW_minecraft/893334860.srt','../data/chat/xQcOW_minecraft/911761347.srt' ],wv);\n"
   ]
  },
  {
   "cell_type": "code",
   "execution_count": null,
   "id": "subtle-cruise",
   "metadata": {},
   "outputs": [],
   "source": []
  }
 ],
 "metadata": {
  "kernelspec": {
   "display_name": "Python 3",
   "language": "python",
   "name": "python3"
  },
  "language_info": {
   "codemirror_mode": {
    "name": "ipython",
    "version": 3
   },
   "file_extension": ".py",
   "mimetype": "text/x-python",
   "name": "python",
   "nbconvert_exporter": "python",
   "pygments_lexer": "ipython3",
   "version": "3.7.9"
  }
 },
 "nbformat": 4,
 "nbformat_minor": 5
}
