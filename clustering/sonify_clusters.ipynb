{
 "cells": [
  {
   "cell_type": "code",
   "execution_count": 93,
   "id": "helpful-field",
   "metadata": {},
   "outputs": [
    {
     "name": "stdout",
     "output_type": "stream",
     "text": [
      "CMIX not found, using pyGoRTcmix instead.\n"
     ]
    }
   ],
   "source": [
    "import csv \n",
    "import numpy as np \n",
    "import pandas as pd\n",
    "import sys\n",
    "\n",
    "sys.path.append('../modules/')\n",
    "\n",
    "import matplotlib.pyplot as plt\n",
    "from importlib import reload\n",
    "import subprocess as sp\n",
    "from subprocess import Popen\n",
    "import os\n",
    "\n",
    "import notepicker\n",
    "import writeCmixSco_GRAN_v2 as wRT_gran\n",
    "import writeCmixSco_WT_ac as wRT_wt\n",
    "# _ac stands for autocheck\n",
    "\n",
    "%matplotlib inline\n",
    "\n",
    "# ======================================================\n",
    "# autocheck for your RTcmix installation type: \n",
    "cmixStatus, cmixResult = sp.getstatusoutput(\"CMIX\")\n",
    "if cmixStatus == 0:\n",
    "    cmixInstalled = True\n",
    "    print(\"CMIX found.\")\n",
    "else:\n",
    "    cmixInstalled = False\n",
    "    print(\"CMIX not found, using pyGoRTcmix instead.\")\n",
    "# ======================================================\n",
    "\n",
    "%matplotlib inline\n",
    "plt.rcParams['figure.figsize'] = [12, 10]"
   ]
  },
  {
   "cell_type": "code",
   "execution_count": 125,
   "id": "mineral-quebec",
   "metadata": {},
   "outputs": [
    {
     "name": "stdout",
     "output_type": "stream",
     "text": [
      "Column names are sent_time, raw_chat_message, processed_chat_message, cluster_num, x, y\n",
      "Processed 88355 lines.\n"
     ]
    }
   ],
   "source": [
    "target_file = '../data/cluster_outputs/riot_games_LOL/v1/770925254.csv'\n",
    "\n",
    "dat = []\n",
    "\n",
    "with open(target_file) as csv_file:\n",
    "    csv_reader = csv.reader(csv_file, delimiter=',')\n",
    "    line_count = 0\n",
    "    for row in csv_reader:\n",
    "        if line_count == 0:\n",
    "            print(f'Column names are {\", \".join(row)}')\n",
    "            line_count += 1\n",
    "        else:\n",
    "            dat.append(row)\n",
    "            line_count += 1\n",
    "    print(f'Processed {line_count} lines.')"
   ]
  },
  {
   "cell_type": "code",
   "execution_count": 126,
   "id": "american-method",
   "metadata": {},
   "outputs": [],
   "source": [
    "dat = pd.DataFrame(dat, columns = ['time', 'msg', 'msg_clean', 'cluster', 'x', 'y'])"
   ]
  },
  {
   "cell_type": "code",
   "execution_count": 163,
   "id": "noticed-genetics",
   "metadata": {},
   "outputs": [
    {
     "name": "stdout",
     "output_type": "stream",
     "text": [
      "[ 110.          116.68425542  123.77468603  131.29597345  139.2742991\n",
      "  147.73743536  156.71484221  166.23776979  176.33936719  187.05479783\n",
      "  198.42136189  210.47862611  223.26856154  236.83568966  251.22723732\n",
      "  266.49330116  282.68702201  299.86476982  318.08633994  337.41516123\n",
      "  357.91851687  379.66777856  402.73865499  427.21145533  453.17136884\n",
      "  480.70876138  509.91948996  540.90523646  573.77386154  608.63978013\n",
      "  645.62435967  684.85634263  726.47229464  770.61707985  817.44436525\n",
      "  867.11715551  919.80836049  975.70139703 1034.99082751 1097.88303705\n",
      " 1164.59695197 1235.36480187 1310.432928   1390.06264075 1474.53112931\n",
      " 1564.13242653 1659.17843244 1760.        ]\n",
      "48\n"
     ]
    }
   ],
   "source": [
    "n_octaves_total = 4\n",
    "root_note  = 110.0\n",
    "ints_per_oct = 12\n",
    "\n",
    "# chromatic scale of n octaves: \n",
    "intervals = np.linspace(0,n_octaves_total,int(n_octaves_total*ints_per_oct))\n",
    "pitches = root_note*(2**intervals)\n",
    "print(pitches)"
   ]
  },
  {
   "cell_type": "code",
   "execution_count": null,
   "id": "exceptional-powell",
   "metadata": {},
   "outputs": [],
   "source": []
  },
  {
   "cell_type": "code",
   "execution_count": 174,
   "id": "bright-controversy",
   "metadata": {},
   "outputs": [],
   "source": [
    "times = []\n",
    "clusters = []\n",
    "\n",
    "for index, row in dat.iterrows():\n",
    "    if index > 0: \n",
    "        time_split = [float(x) for x in row['time'].split(':')]\n",
    "        times.append(time_split[0]*3600+time_split[1]*60+time_split[2]-18)\n",
    "        clusters.append(row['cluster'])"
   ]
  },
  {
   "cell_type": "code",
   "execution_count": 175,
   "id": "normal-trash",
   "metadata": {},
   "outputs": [
    {
     "name": "stdout",
     "output_type": "stream",
     "text": [
      "0        00:00:02.255000\n",
      "1        00:00:08.618000\n",
      "2        00:00:09.069000\n",
      "3        00:00:10.092000\n",
      "4        00:00:11.292000\n",
      "              ...       \n",
      "88349    05:33:49.519000\n",
      "88350    05:33:50.318000\n",
      "88351    05:33:51.194000\n",
      "88352    05:33:51.515000\n",
      "88353    05:33:51.557000\n",
      "Name: time, Length: 88354, dtype: object\n",
      "88353\n",
      "{'5', '3', '8', '7', '0', '9', '1', '6', '2', '4'}\n"
     ]
    }
   ],
   "source": [
    "print(dat['time'])\n",
    "print(len(times))\n",
    "print(set(clusters))"
   ]
  },
  {
   "cell_type": "code",
   "execution_count": 131,
   "id": "likely-humor",
   "metadata": {},
   "outputs": [
    {
     "data": {
      "image/png": "[encoded data removed]",
      "text/plain": [
       "<Figure size 864x720 with 1 Axes>"
      ]
     },
     "metadata": {
      "needs_background": "light"
     },
     "output_type": "display_data"
    }
   ],
   "source": [
    "times_plot = [x/60 for x in times]\n",
    "\n",
    "plt.hist(times_plot, bins = int(times[-1]/300), alpha=0.5, label='# of msg/5 minutes', color = 'orange')\n",
    "plt.hist(times_plot, bins = int(times[-1]/60), alpha=0.5, label='# of msg/min', color = 'red')\n",
    "\n",
    "plt.title('Message frequency over the course of 5h33 minutes for DWG vs. DRX | Quarterfinals | 2020 World Championship')\n",
    "plt.xlabel(\"minutes\")\n",
    "plt.ylabel(\"message frequency\")\n",
    "plt.legend()\n",
    "plt.show()"
   ]
  },
  {
   "cell_type": "code",
   "execution_count": 188,
   "id": "solved-credit",
   "metadata": {},
   "outputs": [],
   "source": [
    "window=5\n",
    "start_time = 245*60\n",
    "end_time = start_time+(window*60)\n",
    "\n",
    "indexes = [idx for idx, x in enumerate(times) if x > start_time and x < end_time]\n",
    "start_ind = indexes[0]\n",
    "end_ind = indexes[-1]\n",
    "\n",
    "times_window, clusters_window = times[start_ind:end_ind], clusters[start_ind:end_ind]\n",
    "first_time = times_window[0]\n",
    "times_window = [x-first_time for x in times_window]\n",
    "\n",
    "clusters_window = [pitches[int(int(x)*len(pitches)/len(set(clusters)))] for x in clusters_window]\n"
   ]
  },
  {
   "cell_type": "code",
   "execution_count": null,
   "id": "tired-fetish",
   "metadata": {},
   "outputs": [],
   "source": []
  },
  {
   "cell_type": "code",
   "execution_count": 191,
   "id": "nutritional-chester",
   "metadata": {},
   "outputs": [
    {
     "name": "stdout",
     "output_type": "stream",
     "text": [
      "test_gotRhythm2.sco\n",
      "CMIX not found; rtoutput() will not be used in score.\n"
     ]
    }
   ],
   "source": [
    "# (4) write RTcmix Wavetable score\n",
    "reload(wRT_wt)\n",
    "base_name = 'test_gotRhythm2'\n",
    "trim = -1\n",
    "tones_dict = {}\n",
    "# tones_dict['times'] = np.asarray(times[:trim])\n",
    "tones_dict['times'] = times_window\n",
    "# tones_dict['notes'] = np.asarray(notes[:trim])\n",
    "# tones_dict['durs'] = np.asarray(durs[:trim]) \n",
    "\n",
    "# tones_dict['times'] = np.ones(len(notes[:trim]))\n",
    "tones_dict['notes'] = clusters_window\n",
    "tones_dict['durs'] = np.ones(len(notes[:trim]))\n",
    "tones_dict['amps'] = np.ones(len(notes[:trim]))*2000\n",
    "tones_dict['pans'] = np.ones(len(notes[:trim]))*0.5\n",
    "\n",
    "score_name = wRT_wt.writesco(tones_dict,base_name)"
   ]
  },
  {
   "cell_type": "code",
   "execution_count": null,
   "id": "bearing-failure",
   "metadata": {},
   "outputs": [
    {
     "name": "stdout",
     "output_type": "stream",
     "text": [
      "/Users/calvinlu/Documents/sonification/pyGoRTcmix/Contents/MacOS/pyGoRTcmix -inputscore /Users/calvinlu/Documents/bot/TwitchSonification/clustering/test_gotRhythm2.sco -output /Users/calvinlu/Documents/bot/TwitchSonification/clustering/test_gotRhythm2.wav -dur 300\n",
      "test_gotRhythm2.sco\n"
     ]
    }
   ],
   "source": [
    "dur_sound = window*60\n",
    "\n",
    "if cmixInstalled:\n",
    "    cmix_cmd = 'CMIX < ' + base_name + '.sco'\n",
    "    print(cmix_cmd)\n",
    "else:\n",
    "    dur = str(dur_sound)\n",
    "    cmix_cmd = os.path.abspath('/Users/calvinlu/Documents/sonification/pyGoRTcmix/Contents/MacOS/pyGoRTcmix') + ' -inputscore ' + os.path.abspath(base_name + '.sco') + ' -output ' + os.path.abspath(base_name + '.wav') + ' -dur ' + dur\n",
    "    print(cmix_cmd)\n",
    "\n",
    "# the ! tells the notebook to run a command in the terminal\n",
    "if sys.platform == 'win32':\n",
    "    ! dir *.sco\n",
    "else:\n",
    "    ! ls *.sco\n",
    "\n",
    "runCMIX = sp.Popen(cmix_cmd, shell=True) # if can only be called from a shell, use shell=True\n",
    "runCMIX.wait()\n",
    "print(\"\\n\" + \"hopefully i just wrote your sound file; is it here?\" + \"\\n\")\n",
    "if sys.platform == 'win32':\n",
    "    ! dir *.wav\n",
    "else:\n",
    "    ! ls *.wav\n",
    "\n",
    "#sp.run(['mv', score_name, '../3_output_nogit'])\n",
    "#sp.run('mv *.wav ../3_output_nogit/', shell=True)"
   ]
  },
  {
   "cell_type": "code",
   "execution_count": null,
   "id": "decent-article",
   "metadata": {},
   "outputs": [],
   "source": []
  }
 ],
 "metadata": {
  "kernelspec": {
   "display_name": "Python 3",
   "language": "python",
   "name": "python3"
  },
  "language_info": {
   "codemirror_mode": {
    "name": "ipython",
    "version": 3
   },
   "file_extension": ".py",
   "mimetype": "text/x-python",
   "name": "python",
   "nbconvert_exporter": "python",
   "pygments_lexer": "ipython3",
   "version": "3.8.5"
  }
 },
 "nbformat": 4,
 "nbformat_minor": 5
}
