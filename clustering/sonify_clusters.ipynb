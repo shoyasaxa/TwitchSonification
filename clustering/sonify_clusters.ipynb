{
 "cells": [
  {
   "cell_type": "code",
   "execution_count": 4,
   "id": "critical-louis",
   "metadata": {},
   "outputs": [
    {
     "name": "stdout",
     "output_type": "stream",
     "text": [
      "CMIX not found, using pyGoRTcmix instead.\n"
     ]
    }
   ],
   "source": [
    "import csv \n",
    "import numpy as np \n",
    "import pandas as pd\n",
    "import sys\n",
    "\n",
    "sys.path.append('../modules/')\n",
    "\n",
    "import matplotlib.pyplot as plt\n",
    "from importlib import reload\n",
    "import subprocess as sp\n",
    "from subprocess import Popen\n",
    "import os\n",
    "\n",
    "import notepicker\n",
    "import writeCmixSco_GRAN_v2 as wRT_gran\n",
    "import writeCmixSco_WT_ac as wRT_wt\n",
    "# _ac stands for autocheck\n",
    "\n",
    "%matplotlib inline\n",
    "\n",
    "# ======================================================\n",
    "# autocheck for your RTcmix installation type: \n",
    "cmixStatus, cmixResult = sp.getstatusoutput(\"CMIX\")\n",
    "if cmixStatus == 0:\n",
    "    cmixInstalled = True\n",
    "    print(\"CMIX found.\")\n",
    "else:\n",
    "    cmixInstalled = False\n",
    "    print(\"CMIX not found, using pyGoRTcmix instead.\")\n",
    "# ======================================================\n",
    "\n",
    "plt.rcParams['figure.figsize'] = [12, 10]"
   ]
  },
  {
   "cell_type": "code",
   "execution_count": 33,
   "id": "strange-fishing",
   "metadata": {},
   "outputs": [
    {
     "name": "stdout",
     "output_type": "stream",
     "text": [
      "Column names are sent_time, raw_chat_message, processed_chat_message, cluster_num, x, y\n",
      "Processed 83398 lines.\n"
     ]
    }
   ],
   "source": [
    "target_file = '../data/cluster_outputs/riot_games_LOL/v2/756260657.csv'\n",
    "\n",
    "dat = []\n",
    "\n",
    "with open(target_file) as csv_file:\n",
    "    csv_reader = csv.reader(csv_file, delimiter=',')\n",
    "    line_count = 0\n",
    "    for row in csv_reader:\n",
    "        if line_count == 0:\n",
    "            print(f'Column names are {\", \".join(row)}')\n",
    "            line_count += 1\n",
    "        else:\n",
    "            dat.append(row)\n",
    "            line_count += 1\n",
    "    print(f'Processed {line_count} lines.')"
   ]
  },
  {
   "cell_type": "code",
   "execution_count": 34,
   "id": "universal-pacific",
   "metadata": {},
   "outputs": [],
   "source": [
    "dat = pd.DataFrame(dat, columns = ['time', 'msg', 'msg_clean', 'cluster', 'x', 'y'])"
   ]
  },
  {
   "cell_type": "code",
   "execution_count": 35,
   "id": "consecutive-upper",
   "metadata": {},
   "outputs": [
    {
     "name": "stdout",
     "output_type": "stream",
     "text": [
      "[ 110.          116.68425542  123.77468603  131.29597345  139.2742991\n",
      "  147.73743536  156.71484221  166.23776979  176.33936719  187.05479783\n",
      "  198.42136189  210.47862611  223.26856154  236.83568966  251.22723732\n",
      "  266.49330116  282.68702201  299.86476982  318.08633994  337.41516123\n",
      "  357.91851687  379.66777856  402.73865499  427.21145533  453.17136884\n",
      "  480.70876138  509.91948996  540.90523646  573.77386154  608.63978013\n",
      "  645.62435967  684.85634263  726.47229464  770.61707985  817.44436525\n",
      "  867.11715551  919.80836049  975.70139703 1034.99082751 1097.88303705\n",
      " 1164.59695197 1235.36480187 1310.432928   1390.06264075 1474.53112931\n",
      " 1564.13242653 1659.17843244 1760.        ]\n"
     ]
    }
   ],
   "source": [
    "n_octaves_total = 4\n",
    "root_note  = 110.0\n",
    "ints_per_oct = 12\n",
    "\n",
    "# chromatic scale of n octaves: \n",
    "intervals = np.linspace(0,n_octaves_total,int(n_octaves_total*ints_per_oct))\n",
    "pitches = root_note*(2**intervals)\n",
    "print(pitches)"
   ]
  },
  {
   "cell_type": "code",
   "execution_count": 36,
   "id": "blocked-circle",
   "metadata": {},
   "outputs": [
    {
     "name": "stdout",
     "output_type": "stream",
     "text": [
      "                  time                                                msg  \\\n",
      "0      00:00:09.845000  catJAM catJAM catJAM catJAM catJAM catJAM catJ...   \n",
      "1      00:00:18.481000                                      STARTFARM BBY   \n",
      "2      00:00:41.381000  EU CANT WIN WITH 28 COUNTRIES KEKW EU CANT WIN...   \n",
      "3      00:00:41.469000                                                  F   \n",
      "4      00:00:45.615000                                                : D   \n",
      "...                ...                                                ...   \n",
      "83392  07:38:42.115000        @Azufre23 Well TSM and TL might make it out   \n",
      "83393  07:38:46.566000  even when lck doesn't win worlds they still us...   \n",
      "83394  07:38:47.159000  IF YOU WOULD BE SO ENTUSIASM FOR WORLD HUNGER ...   \n",
      "83395  07:38:48.241000  ♿ MAKE WAY NA PASSING BY ♿ DIDN'T GET OUT OF G...   \n",
      "83396  07:38:49.632000                                   NA: not american   \n",
      "\n",
      "                                            msg_clean cluster           x  \\\n",
      "0                                              catjam       2  -1.1149249   \n",
      "1                                                 bby       6  -0.9831611   \n",
      "2              eu win 28 countries swim home OMEGALUL       4   2.0945833   \n",
      "3                                                   f       6  -0.8026827   \n",
      "4                                                 : d       1  0.38643876   \n",
      "...                                               ...     ...         ...   \n",
      "83392                                        @ tsm tl       9  0.65660363   \n",
      "83393            lck doesn't win worlds usually group       4   2.0830605   \n",
      "83394                       world hunger human trafic       5   1.0517681   \n",
      "83395  ♿ way na passing didn't groups 2019 won't 2020       4   2.2811275   \n",
      "83396                                   na : american       9   1.2222828   \n",
      "\n",
      "                 y  \n",
      "0       -1.0972586  \n",
      "1      -0.85065925  \n",
      "2       0.48684368  \n",
      "3        0.8055363  \n",
      "4      -0.57815766  \n",
      "...            ...  \n",
      "83392   -1.1464441  \n",
      "83393    0.6337054  \n",
      "83394   0.71620274  \n",
      "83395  -0.28177285  \n",
      "83396   -0.3930949  \n",
      "\n",
      "[83397 rows x 6 columns]\n"
     ]
    }
   ],
   "source": [
    "print(dat)"
   ]
  },
  {
   "cell_type": "code",
   "execution_count": 37,
   "id": "honey-mitchell",
   "metadata": {},
   "outputs": [],
   "source": [
    "times = []\n",
    "clusters = []\n",
    "\n",
    "\n",
    "for index, row in dat.iterrows():\n",
    "    if index > 0: \n",
    "        time_split = [float(x) for x in row['time'].split(':')]\n",
    "        times.append(time_split[0]*3600+time_split[1]*60+time_split[2]-18)\n",
    "        clusters.append(row['cluster'])"
   ]
  },
  {
   "cell_type": "code",
   "execution_count": 38,
   "id": "julian-receipt",
   "metadata": {},
   "outputs": [
    {
     "name": "stdout",
     "output_type": "stream",
     "text": [
      "0        00:00:09.845000\n",
      "1        00:00:18.481000\n",
      "2        00:00:41.381000\n",
      "3        00:00:41.469000\n",
      "4        00:00:45.615000\n",
      "              ...       \n",
      "83392    07:38:42.115000\n",
      "83393    07:38:46.566000\n",
      "83394    07:38:47.159000\n",
      "83395    07:38:48.241000\n",
      "83396    07:38:49.632000\n",
      "Name: time, Length: 83397, dtype: object\n",
      "83396\n",
      "{'2', '1', '0', '4', '9', '7', '8', '5', '3', '6'}\n"
     ]
    }
   ],
   "source": [
    "print(dat['time'])\n",
    "print(len(times))\n",
    "print(set(clusters))"
   ]
  },
  {
   "cell_type": "code",
   "execution_count": 39,
   "id": "immediate-probe",
   "metadata": {},
   "outputs": [
    {
     "data": {
      "image/png": "[encoded data removed]",
      "text/plain": [
       "<Figure size 864x720 with 1 Axes>"
      ]
     },
     "metadata": {
      "needs_background": "light"
     },
     "output_type": "display_data"
    }
   ],
   "source": [
    "times_plot = [x/60 for x in times]\n",
    "\n",
    "dat_5min = plt.hist(times_plot, bins = int(times[-1]/300), alpha=0.5, label='# of msg/5 minutes', color = 'orange')\n",
    "dat_1min = plt.hist(times_plot, bins = int(times[-1]/60), alpha=0.5, label='# of msg/min', color = 'red')\n",
    "\n",
    "plt.title('Message frequency over the course of 5h33 minutes for DWG vs. DRX | Quarterfinals | 2020 World Championship')\n",
    "plt.xlabel(\"minutes\")\n",
    "plt.ylabel(\"message frequency\")\n",
    "plt.legend()\n",
    "plt.show()"
   ]
  },
  {
   "cell_type": "code",
   "execution_count": 41,
   "id": "institutional-census",
   "metadata": {},
   "outputs": [
    {
     "name": "stdout",
     "output_type": "stream",
     "text": [
      "618.0\n",
      "213\n"
     ]
    }
   ],
   "source": [
    "busiest_minute = list(dat_1min[0]).index(max(dat_1min[0]))\n",
    "print(max(dat_1min[0]))\n",
    "print(busiest_minute)"
   ]
  },
  {
   "cell_type": "code",
   "execution_count": 42,
   "id": "returning-wedding",
   "metadata": {},
   "outputs": [],
   "source": [
    "window=5\n",
    "# start_time = (busiest_minute*60)-((window-1)*60*0.5)\n",
    "# end_time = start_time+(window*60)\n",
    "start_time = busiest_minute*60\n",
    "end_time = start_time + 60\n",
    "\n",
    "indexes = [idx for idx, x in enumerate(times) if x > start_time and x < end_time]\n",
    "start_ind = indexes[0]\n",
    "end_ind = indexes[-1]\n",
    "\n",
    "times_window, clusters_window = times[start_ind:end_ind], clusters[start_ind:end_ind]\n",
    "first_time = times_window[0]\n",
    "times_window = [x-first_time for x in times_window]\n",
    "\n",
    "clusters_window = [pitches[int(int(x)*len(pitches)/len(set(clusters)))] for x in clusters_window]"
   ]
  },
  {
   "cell_type": "code",
   "execution_count": 46,
   "id": "speaking-position",
   "metadata": {},
   "outputs": [
    {
     "name": "stdout",
     "output_type": "stream",
     "text": [
      "536\n",
      "12780 12840\n",
      "33936 34471\n"
     ]
    }
   ],
   "source": [
    "print(len(indexes))\n",
    "print(start_time, end_time)\n",
    "print(start_ind, end_ind)"
   ]
  },
  {
   "cell_type": "code",
   "execution_count": 22,
   "id": "later-robertson",
   "metadata": {},
   "outputs": [
    {
     "name": "stdout",
     "output_type": "stream",
     "text": [
      "test_gotRhythm2.sco\n",
      "CMIX not found; rtoutput() will not be used in score.\n"
     ]
    }
   ],
   "source": [
    "# (4) write RTcmix Wavetable score\n",
    "reload(wRT_wt)\n",
    "base_name = 'test_gotRhythm2'\n",
    "trim = -1\n",
    "tones_dict = {}\n",
    "# tones_dict['times'] = np.asarray(times[:trim])\n",
    "tones_dict['times'] = times_window\n",
    "# tones_dict['notes'] = np.asarray(notes[:trim])\n",
    "# tones_dict['durs'] = np.asarray(durs[:trim]) \n",
    "\n",
    "# tones_dict['times'] = np.ones(len(notes[:trim]))\n",
    "tones_dict['notes'] = clusters_window\n",
    "tones_dict['durs'] = np.ones(len(times_window))*0.5\n",
    "tones_dict['amps'] = np.ones(len(times_window))*2000\n",
    "tones_dict['pans'] = np.ones(len(times_window))*0.5\n",
    "\n",
    "score_name = wRT_wt.writesco(tones_dict,base_name)"
   ]
  },
  {
   "cell_type": "code",
   "execution_count": 24,
   "id": "headed-cargo",
   "metadata": {},
   "outputs": [
    {
     "name": "stdout",
     "output_type": "stream",
     "text": [
      "/Users/calvinlu/Documents/sonification/pyGoRTcmix/Contents/MacOS/pyGoRTcmix -inputscore /Users/calvinlu/Documents/bot/TwitchSonification/clustering/test_gotRhythm2.sco -output /Users/calvinlu/Documents/bot/TwitchSonification/clustering/test_gotRhythm2.wav -dur 300\n",
      "test_gotRhythm2.sco\n"
     ]
    },
    {
     "ename": "KeyboardInterrupt",
     "evalue": "",
     "output_type": "error",
     "traceback": [
      "\u001b[0;31m---------------------------------------------------------------------------\u001b[0m",
      "\u001b[0;31mKeyboardInterrupt\u001b[0m                         Traceback (most recent call last)",
      "\u001b[0;32m<ipython-input-24-b4c60fef8d3a>\u001b[0m in \u001b[0;36m<module>\u001b[0;34m\u001b[0m\n\u001b[1;32m     16\u001b[0m \u001b[0;34m\u001b[0m\u001b[0m\n\u001b[1;32m     17\u001b[0m \u001b[0mrunCMIX\u001b[0m \u001b[0;34m=\u001b[0m \u001b[0msp\u001b[0m\u001b[0;34m.\u001b[0m\u001b[0mPopen\u001b[0m\u001b[0;34m(\u001b[0m\u001b[0mcmix_cmd\u001b[0m\u001b[0;34m,\u001b[0m \u001b[0mshell\u001b[0m\u001b[0;34m=\u001b[0m\u001b[0;32mTrue\u001b[0m\u001b[0;34m)\u001b[0m \u001b[0;31m# if can only be called from a shell, use shell=True\u001b[0m\u001b[0;34m\u001b[0m\u001b[0;34m\u001b[0m\u001b[0m\n\u001b[0;32m---> 18\u001b[0;31m \u001b[0mrunCMIX\u001b[0m\u001b[0;34m.\u001b[0m\u001b[0mwait\u001b[0m\u001b[0;34m(\u001b[0m\u001b[0;34m)\u001b[0m\u001b[0;34m\u001b[0m\u001b[0;34m\u001b[0m\u001b[0m\n\u001b[0m\u001b[1;32m     19\u001b[0m \u001b[0mprint\u001b[0m\u001b[0;34m(\u001b[0m\u001b[0;34m\"\\n\"\u001b[0m \u001b[0;34m+\u001b[0m \u001b[0;34m\"hopefully i just wrote your sound file; is it here?\"\u001b[0m \u001b[0;34m+\u001b[0m \u001b[0;34m\"\\n\"\u001b[0m\u001b[0;34m)\u001b[0m\u001b[0;34m\u001b[0m\u001b[0;34m\u001b[0m\u001b[0m\n\u001b[1;32m     20\u001b[0m \u001b[0;32mif\u001b[0m \u001b[0msys\u001b[0m\u001b[0;34m.\u001b[0m\u001b[0mplatform\u001b[0m \u001b[0;34m==\u001b[0m \u001b[0;34m'win32'\u001b[0m\u001b[0;34m:\u001b[0m\u001b[0;34m\u001b[0m\u001b[0;34m\u001b[0m\u001b[0m\n",
      "\u001b[0;32m~/miniconda3/lib/python3.8/subprocess.py\u001b[0m in \u001b[0;36mwait\u001b[0;34m(self, timeout)\u001b[0m\n\u001b[1;32m   1077\u001b[0m             \u001b[0mendtime\u001b[0m \u001b[0;34m=\u001b[0m \u001b[0m_time\u001b[0m\u001b[0;34m(\u001b[0m\u001b[0;34m)\u001b[0m \u001b[0;34m+\u001b[0m \u001b[0mtimeout\u001b[0m\u001b[0;34m\u001b[0m\u001b[0;34m\u001b[0m\u001b[0m\n\u001b[1;32m   1078\u001b[0m         \u001b[0;32mtry\u001b[0m\u001b[0;34m:\u001b[0m\u001b[0;34m\u001b[0m\u001b[0;34m\u001b[0m\u001b[0m\n\u001b[0;32m-> 1079\u001b[0;31m             \u001b[0;32mreturn\u001b[0m \u001b[0mself\u001b[0m\u001b[0;34m.\u001b[0m\u001b[0m_wait\u001b[0m\u001b[0;34m(\u001b[0m\u001b[0mtimeout\u001b[0m\u001b[0;34m=\u001b[0m\u001b[0mtimeout\u001b[0m\u001b[0;34m)\u001b[0m\u001b[0;34m\u001b[0m\u001b[0;34m\u001b[0m\u001b[0m\n\u001b[0m\u001b[1;32m   1080\u001b[0m         \u001b[0;32mexcept\u001b[0m \u001b[0mKeyboardInterrupt\u001b[0m\u001b[0;34m:\u001b[0m\u001b[0;34m\u001b[0m\u001b[0;34m\u001b[0m\u001b[0m\n\u001b[1;32m   1081\u001b[0m             \u001b[0;31m# https://bugs.python.org/issue25942\u001b[0m\u001b[0;34m\u001b[0m\u001b[0;34m\u001b[0m\u001b[0;34m\u001b[0m\u001b[0m\n",
      "\u001b[0;32m~/miniconda3/lib/python3.8/subprocess.py\u001b[0m in \u001b[0;36m_wait\u001b[0;34m(self, timeout)\u001b[0m\n\u001b[1;32m   1802\u001b[0m                         \u001b[0;32mif\u001b[0m \u001b[0mself\u001b[0m\u001b[0;34m.\u001b[0m\u001b[0mreturncode\u001b[0m \u001b[0;32mis\u001b[0m \u001b[0;32mnot\u001b[0m \u001b[0;32mNone\u001b[0m\u001b[0;34m:\u001b[0m\u001b[0;34m\u001b[0m\u001b[0;34m\u001b[0m\u001b[0m\n\u001b[1;32m   1803\u001b[0m                             \u001b[0;32mbreak\u001b[0m  \u001b[0;31m# Another thread waited.\u001b[0m\u001b[0;34m\u001b[0m\u001b[0;34m\u001b[0m\u001b[0m\n\u001b[0;32m-> 1804\u001b[0;31m                         \u001b[0;34m(\u001b[0m\u001b[0mpid\u001b[0m\u001b[0;34m,\u001b[0m \u001b[0msts\u001b[0m\u001b[0;34m)\u001b[0m \u001b[0;34m=\u001b[0m \u001b[0mself\u001b[0m\u001b[0;34m.\u001b[0m\u001b[0m_try_wait\u001b[0m\u001b[0;34m(\u001b[0m\u001b[0;36m0\u001b[0m\u001b[0;34m)\u001b[0m\u001b[0;34m\u001b[0m\u001b[0;34m\u001b[0m\u001b[0m\n\u001b[0m\u001b[1;32m   1805\u001b[0m                         \u001b[0;31m# Check the pid and loop as waitpid has been known to\u001b[0m\u001b[0;34m\u001b[0m\u001b[0;34m\u001b[0m\u001b[0;34m\u001b[0m\u001b[0m\n\u001b[1;32m   1806\u001b[0m                         \u001b[0;31m# return 0 even without WNOHANG in odd situations.\u001b[0m\u001b[0;34m\u001b[0m\u001b[0;34m\u001b[0m\u001b[0;34m\u001b[0m\u001b[0m\n",
      "\u001b[0;32m~/miniconda3/lib/python3.8/subprocess.py\u001b[0m in \u001b[0;36m_try_wait\u001b[0;34m(self, wait_flags)\u001b[0m\n\u001b[1;32m   1760\u001b[0m             \u001b[0;34m\"\"\"All callers to this function MUST hold self._waitpid_lock.\"\"\"\u001b[0m\u001b[0;34m\u001b[0m\u001b[0;34m\u001b[0m\u001b[0m\n\u001b[1;32m   1761\u001b[0m             \u001b[0;32mtry\u001b[0m\u001b[0;34m:\u001b[0m\u001b[0;34m\u001b[0m\u001b[0;34m\u001b[0m\u001b[0m\n\u001b[0;32m-> 1762\u001b[0;31m                 \u001b[0;34m(\u001b[0m\u001b[0mpid\u001b[0m\u001b[0;34m,\u001b[0m \u001b[0msts\u001b[0m\u001b[0;34m)\u001b[0m \u001b[0;34m=\u001b[0m \u001b[0mos\u001b[0m\u001b[0;34m.\u001b[0m\u001b[0mwaitpid\u001b[0m\u001b[0;34m(\u001b[0m\u001b[0mself\u001b[0m\u001b[0;34m.\u001b[0m\u001b[0mpid\u001b[0m\u001b[0;34m,\u001b[0m \u001b[0mwait_flags\u001b[0m\u001b[0;34m)\u001b[0m\u001b[0;34m\u001b[0m\u001b[0;34m\u001b[0m\u001b[0m\n\u001b[0m\u001b[1;32m   1763\u001b[0m             \u001b[0;32mexcept\u001b[0m \u001b[0mChildProcessError\u001b[0m\u001b[0;34m:\u001b[0m\u001b[0;34m\u001b[0m\u001b[0;34m\u001b[0m\u001b[0m\n\u001b[1;32m   1764\u001b[0m                 \u001b[0;31m# This happens if SIGCLD is set to be ignored or waiting\u001b[0m\u001b[0;34m\u001b[0m\u001b[0;34m\u001b[0m\u001b[0;34m\u001b[0m\u001b[0m\n",
      "\u001b[0;31mKeyboardInterrupt\u001b[0m: "
     ]
    }
   ],
   "source": [
    "dur_sound = window*60\n",
    "\n",
    "if cmixInstalled:\n",
    "    cmix_cmd = 'CMIX < ' + base_name + '.sco'\n",
    "    print(cmix_cmd)\n",
    "else:\n",
    "    dur = str(dur_sound)\n",
    "    cmix_cmd = os.path.abspath('/Users/calvinlu/Documents/sonification/pyGoRTcmix/Contents/MacOS/pyGoRTcmix') + ' -inputscore ' + os.path.abspath(base_name + '.sco') + ' -output ' + os.path.abspath(base_name + '.wav') + ' -dur ' + dur\n",
    "    print(cmix_cmd)\n",
    "\n",
    "# the ! tells the notebook to run a command in the terminal\n",
    "if sys.platform == 'win32':\n",
    "    ! dir *.sco\n",
    "else:\n",
    "    ! ls *.sco\n",
    "\n",
    "runCMIX = sp.Popen(cmix_cmd, shell=True) # if can only be called from a shell, use shell=True\n",
    "runCMIX.wait()\n",
    "print(\"\\n\" + \"hopefully i just wrote your sound file; is it here?\" + \"\\n\")\n",
    "if sys.platform == 'win32':\n",
    "    ! dir *.wav\n",
    "else:\n",
    "    ! ls *.wav\n",
    "\n",
    "#sp.run(['mv', score_name, '../3_output_nogit'])\n",
    "#sp.run('mv *.wav ../3_output_nogit/', shell=True)"
   ]
  },
  {
   "cell_type": "code",
   "execution_count": null,
   "id": "lightweight-passion",
   "metadata": {},
   "outputs": [],
   "source": []
  }
 ],
 "metadata": {
  "kernelspec": {
   "display_name": "Python 3",
   "language": "python",
   "name": "python3"
  },
  "language_info": {
   "codemirror_mode": {
    "name": "ipython",
    "version": 3
   },
   "file_extension": ".py",
   "mimetype": "text/x-python",
   "name": "python",
   "nbconvert_exporter": "python",
   "pygments_lexer": "ipython3",
   "version": "3.8.5"
  }
 },
 "nbformat": 4,
 "nbformat_minor": 5
}
