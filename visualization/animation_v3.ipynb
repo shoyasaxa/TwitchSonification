{
 "cells": [
  {
   "cell_type": "code",
   "execution_count": 1,
   "id": "unlike-psychology",
   "metadata": {},
   "outputs": [],
   "source": [
    "import csv \n",
    "import numpy as np \n",
    "import pandas as pd\n",
    "import sys\n",
    "import os\n",
    "import psutil\n",
    "\n",
    "from matplotlib import cm\n",
    "import matplotlib.pyplot as plt\n",
    "import plotly.express as px \n",
    "\n",
    "plt.rcParams['figure.figsize'] = [12, 10]\n",
    "%matplotlib inline"
   ]
  },
  {
   "cell_type": "code",
   "execution_count": 2,
   "id": "initial-chancellor",
   "metadata": {},
   "outputs": [
    {
     "name": "stdout",
     "output_type": "stream",
     "text": [
      "Column names are sent_time, raw_chat_message, processed_chat_message, cluster_num, x, y\n",
      "Processed 83398 lines.\n"
     ]
    }
   ],
   "source": [
    "target_file = '../data/cluster_outputs/riot_games_LOL/v2/756260657.csv'\n",
    "\n",
    "dat = []\n",
    "\n",
    "with open(target_file) as csv_file:\n",
    "    csv_reader = csv.reader(csv_file, delimiter=',')\n",
    "    line_count = 0\n",
    "    for row in csv_reader:\n",
    "        if line_count == 0:\n",
    "            print(f'Column names are {\", \".join(row)}')\n",
    "            line_count += 1\n",
    "        else:\n",
    "            dat.append(row)\n",
    "            line_count += 1\n",
    "    print(f'Processed {line_count} lines.')"
   ]
  },
  {
   "cell_type": "code",
   "execution_count": 3,
   "id": "lucky-socket",
   "metadata": {},
   "outputs": [],
   "source": [
    "dat = pd.DataFrame(dat, columns = ['time', 'msg', 'msg_clean', 'cluster', 'x', 'y'])"
   ]
  },
  {
   "cell_type": "code",
   "execution_count": 4,
   "id": "specified-department",
   "metadata": {},
   "outputs": [
    {
     "name": "stdout",
     "output_type": "stream",
     "text": [
      "12780.0 12840.0\n"
     ]
    }
   ],
   "source": [
    "window=1\n",
    "busiest_minute = 213\n",
    "persistence = 5\n",
    "\n",
    "start_time = (busiest_minute*60)-((window-1)*60*0.5)\n",
    "end_time = start_time+(window*60)\n",
    "\n",
    "print(start_time, end_time)"
   ]
  },
  {
   "cell_type": "code",
   "execution_count": 5,
   "id": "linear-university",
   "metadata": {},
   "outputs": [],
   "source": [
    "def raw_time(row):\n",
    "    time_split = [float(x) for x in row.split(':')]\n",
    "    return time_split[0]*3600+time_split[1]*60+time_split[2]\n",
    "\n",
    "def round_zero(time, base):\n",
    "    return round(round(time, 1) - base, 1)"
   ]
  },
  {
   "cell_type": "code",
   "execution_count": 6,
   "id": "seven-distributor",
   "metadata": {},
   "outputs": [
    {
     "data": {
      "text/html": [
       "<div>\n",
       "<style scoped>\n",
       "    .dataframe tbody tr th:only-of-type {\n",
       "        vertical-align: middle;\n",
       "    }\n",
       "\n",
       "    .dataframe tbody tr th {\n",
       "        vertical-align: top;\n",
       "    }\n",
       "\n",
       "    .dataframe thead th {\n",
       "        text-align: right;\n",
       "    }\n",
       "</style>\n",
       "<table border=\"1\" class=\"dataframe\">\n",
       "  <thead>\n",
       "    <tr style=\"text-align: right;\">\n",
       "      <th></th>\n",
       "      <th>msg_clean</th>\n",
       "      <th>cluster</th>\n",
       "      <th>x</th>\n",
       "      <th>y</th>\n",
       "      <th>time_rounded_zeroed</th>\n",
       "    </tr>\n",
       "  </thead>\n",
       "  <tbody>\n",
       "    <tr>\n",
       "      <th>0</th>\n",
       "      <td>bye oce</td>\n",
       "      <td>9</td>\n",
       "      <td>-0.11226242</td>\n",
       "      <td>-0.48036543</td>\n",
       "      <td>0.0</td>\n",
       "    </tr>\n",
       "    <tr>\n",
       "      <th>1</th>\n",
       "      <td>blundered Kreygasm</td>\n",
       "      <td>3</td>\n",
       "      <td>-0.53293884</td>\n",
       "      <td>-0.43837976</td>\n",
       "      <td>0.2</td>\n",
       "    </tr>\n",
       "    <tr>\n",
       "      <th>2</th>\n",
       "      <td>bye oce</td>\n",
       "      <td>9</td>\n",
       "      <td>-0.11226242</td>\n",
       "      <td>-0.48036543</td>\n",
       "      <td>0.6</td>\n",
       "    </tr>\n",
       "    <tr>\n",
       "      <th>3</th>\n",
       "      <td>oce silenced</td>\n",
       "      <td>4</td>\n",
       "      <td>-0.26730612</td>\n",
       "      <td>0.1749508</td>\n",
       "      <td>1.2</td>\n",
       "    </tr>\n",
       "    <tr>\n",
       "      <th>4</th>\n",
       "      <td>sadge</td>\n",
       "      <td>0</td>\n",
       "      <td>-1.1030256</td>\n",
       "      <td>-1.120396</td>\n",
       "      <td>1.7</td>\n",
       "    </tr>\n",
       "  </tbody>\n",
       "</table>\n",
       "</div>"
      ],
      "text/plain": [
       "            msg_clean cluster            x            y  time_rounded_zeroed\n",
       "0             bye oce       9  -0.11226242  -0.48036543                  0.0\n",
       "1  blundered Kreygasm       3  -0.53293884  -0.43837976                  0.2\n",
       "2             bye oce       9  -0.11226242  -0.48036543                  0.6\n",
       "3        oce silenced       4  -0.26730612    0.1749508                  1.2\n",
       "4               sadge       0   -1.1030256    -1.120396                  1.7"
      ]
     },
     "execution_count": 6,
     "metadata": {},
     "output_type": "execute_result"
    }
   ],
   "source": [
    "dat['raw_time'] = dat.apply(lambda row : raw_time(row['time']), \n",
    "                                  axis=1)\n",
    "\n",
    "df_1min = dat[(dat['raw_time'] > start_time) & \n",
    "              (dat['raw_time'] < end_time)].reset_index()\n",
    "\n",
    "base_time = round(df_1min['raw_time'][0], 1)\n",
    "\n",
    "df_1min['time_rounded_zeroed'] = df_1min.apply(lambda row : round_zero(row['raw_time'],\n",
    "                                                                  base_time), \n",
    "                                  axis=1)\n",
    "\n",
    "df = df_1min[['msg_clean', 'cluster', 'x', 'y', 'time_rounded_zeroed']]\n",
    "df.head()"
   ]
  },
  {
   "cell_type": "code",
   "execution_count": null,
   "id": "congressional-interstate",
   "metadata": {},
   "outputs": [],
   "source": []
  },
  {
   "cell_type": "code",
   "execution_count": 12,
   "id": "inclusive-johns",
   "metadata": {},
   "outputs": [],
   "source": [
    "timeline = [round(x,1) for x in np.linspace(0,window*60, window*60*10+1)]\n",
    "\n",
    "df_plot = pd.DataFrame(columns=df.columns)\n",
    "for time in timeline: \n",
    "    tmp = df[(df['time_rounded_zeroed'] >= max(0, time-persistence)) & \n",
    "             (df['time_rounded_zeroed'] <= time)].reset_index()\n",
    "    tmp['time_frame'] = time\n",
    "    df_plot = df_plot.append(tmp, ignore_index = True)"
   ]
  },
  {
   "cell_type": "code",
   "execution_count": 14,
   "id": "ceramic-blake",
   "metadata": {},
   "outputs": [
    {
     "name": "stdout",
     "output_type": "stream",
     "text": [
      "                             msg_clean cluster            x              y  \\\n",
      "8287                                gg       0   -1.1821564     -0.5584184   \n",
      "8288                           EZ Clap       5   -0.3273211      0.5354494   \n",
      "8289                          sadge gg       9   -0.7022841     -1.0900956   \n",
      "8290                         n\\1\\1 oce       4  -0.31103122     -0.5715036   \n",
      "8291  RIP oce hopes gone feelsweirdman       4    1.0902641  -0.0023778745   \n",
      "...                                ...     ...          ...            ...   \n",
      "8344                           bye oce       9  -0.11226242    -0.48036543   \n",
      "8345                        kramer god       5  -0.15110172     0.14934067   \n",
      "8346                                gg       0   -1.1821564     -0.5584184   \n",
      "8347                      oce silenced       4  -0.26730612      0.1749508   \n",
      "8348                           bye oce       9  -0.11226242    -0.48036543   \n",
      "\n",
      "      time_rounded_zeroed  index  time_frame  \n",
      "8287                 35.2  133.0        40.1  \n",
      "8288                 35.2  134.0        40.1  \n",
      "8289                 35.3  135.0        40.1  \n",
      "8290                 35.5  136.0        40.1  \n",
      "8291                 35.8  137.0        40.1  \n",
      "...                   ...    ...         ...  \n",
      "8344                 39.7  190.0        40.1  \n",
      "8345                 39.9  191.0        40.1  \n",
      "8346                 40.0  192.0        40.1  \n",
      "8347                 40.0  193.0        40.1  \n",
      "8348                 40.1  194.0        40.1  \n",
      "\n",
      "[62 rows x 7 columns]\n"
     ]
    }
   ],
   "source": [
    "print(df_plot[df_plot['time_frame'] == 40.1])"
   ]
  },
  {
   "cell_type": "code",
   "execution_count": 20,
   "id": "resistant-robertson",
   "metadata": {},
   "outputs": [
    {
     "name": "stdout",
     "output_type": "stream",
     "text": [
      "msg_clean               object\n",
      "cluster                 object\n",
      "x                      float64\n",
      "y                      float64\n",
      "time_rounded_zeroed    float64\n",
      "index                  float64\n",
      "time_frame             float64\n",
      "dtype: object\n",
      "-1.3284713 2.8316407\n",
      "-2.2453423 3.386172\n"
     ]
    },
    {
     "data": {
      "application/vnd.plotly.v1+json": {
       "config": {
        "plotlyServerURL": "https://plot.ly"
       },
       "data": [
        {
         "hovertemplate": "cluster=0<br>x=%{x}<br>y=%{y}<extra></extra>",
         "legendgroup": "0",
         "marker": {
          "color": "#636efa",
          "symbol": "circle"
         },
         "mode": "markers",
         "name": "0",
         "orientation": "v",
         "showlegend": true,
         "type": "scatter",
         "x": [
          -1.1821564,
          -1.1821564,
          -1.1821564,
          -1.1821564,
          -1.1030256,
          -1.1821564,
          -1.1821564,
          -1.1821564,
          -1.1821564,
          -1.1821564,
          -1.1821564,
          -1.1821564,
          -1.1821564,
          -1.1821564,
          -0.6296925,
          -1.1821564,
          -1.1387,
          -1.1821564,
          -1.1821564,
          -1.1821564,
          -0.8916573,
          -1.1821564,
          -1.1821564,
          -1.1387,
          -1.1821564,
          -1.1821564,
          -0.96787924,
          -0.6296925,
          -1.1821564,
          -1.1821564,
          -1.1821564,
          -1.1821564
         ],
         "xaxis": "x",
         "y": [
          -0.5584184,
          -0.5584184,
          -0.5584184,
          -0.5584184,
          -1.120396,
          -0.5584184,
          -0.5584184,
          -0.5584184,
          -0.5584184,
          -0.5584184,
          -0.5584184,
          -0.5584184,
          -0.5584184,
          -0.5584184,
          -0.41322777,
          -0.5584184,
          0.17017953,
          -0.5584184,
          -0.5584184,
          -0.5584184,
          -0.85710144,
          -0.5584184,
          -0.5584184,
          0.17017953,
          -0.5584184,
          -0.5584184,
          0.26575586,
          -0.41322777,
          -0.5584184,
          -0.5584184,
          -0.5584184,
          -0.5584184
         ],
         "yaxis": "y"
        },
        {
         "hovertemplate": "cluster=5<br>x=%{x}<br>y=%{y}<extra></extra>",
         "legendgroup": "5",
         "marker": {
          "color": "#EF553B",
          "symbol": "circle"
         },
         "mode": "markers",
         "name": "5",
         "orientation": "v",
         "showlegend": true,
         "type": "scatter",
         "x": [
          -0.3273211,
          0.70028967,
          -0.15110172
         ],
         "xaxis": "x",
         "y": [
          0.5354494,
          1.3398173,
          0.14934067
         ],
         "yaxis": "y"
        },
        {
         "hovertemplate": "cluster=9<br>x=%{x}<br>y=%{y}<extra></extra>",
         "legendgroup": "9",
         "marker": {
          "color": "#00cc96",
          "symbol": "circle"
         },
         "mode": "markers",
         "name": "9",
         "orientation": "v",
         "showlegend": true,
         "type": "scatter",
         "x": [
          -0.7022841,
          -0.11226242,
          -0.7022841,
          -0.11226242,
          -0.11226242,
          -0.11226242
         ],
         "xaxis": "x",
         "y": [
          -1.0900956,
          -0.48036543,
          -1.0900956,
          -0.48036543,
          -0.48036543,
          -0.48036543
         ],
         "yaxis": "y"
        },
        {
         "hovertemplate": "cluster=4<br>x=%{x}<br>y=%{y}<extra></extra>",
         "legendgroup": "4",
         "marker": {
          "color": "#ab63fa",
          "symbol": "circle"
         },
         "mode": "markers",
         "name": "4",
         "orientation": "v",
         "showlegend": true,
         "type": "scatter",
         "x": [
          -0.31103122,
          1.0902641,
          -0.26730612,
          0.5356999,
          -0.26730612,
          -0.26730612,
          -0.26730612
         ],
         "xaxis": "x",
         "y": [
          -0.5715036,
          -0.0023778745,
          0.1749508,
          0.512453,
          0.1749508,
          0.1749508,
          0.1749508
         ],
         "yaxis": "y"
        },
        {
         "hovertemplate": "cluster=3<br>x=%{x}<br>y=%{y}<extra></extra>",
         "legendgroup": "3",
         "marker": {
          "color": "#FFA15A",
          "symbol": "circle"
         },
         "mode": "markers",
         "name": "3",
         "orientation": "v",
         "showlegend": true,
         "type": "scatter",
         "x": [
          0.4019698,
          -0.02258631,
          0.26285654,
          0.9237456,
          -0.5529287,
          -0.49350274,
          -0.13106355,
          -0.20670095
         ],
         "xaxis": "x",
         "y": [
          0.60138,
          1.3510605,
          0.3084441,
          0.7771503,
          0.021129832,
          -0.08290862,
          0.9824679,
          0.7916013
         ],
         "yaxis": "y"
        },
        {
         "hovertemplate": "cluster=6<br>x=%{x}<br>y=%{y}<extra></extra>",
         "legendgroup": "6",
         "marker": {
          "color": "#19d3f3",
          "symbol": "circle"
         },
         "mode": "markers",
         "name": "6",
         "orientation": "v",
         "showlegend": true,
         "type": "scatter",
         "x": [
          -0.89126295,
          -0.90590394,
          -0.6453052,
          -0.90590394,
          -0.96983695
         ],
         "xaxis": "x",
         "y": [
          2.4660552,
          2.0696611,
          2.776256,
          2.0696611,
          1.801097
         ],
         "yaxis": "y"
        },
        {
         "hovertemplate": "cluster=2<br>x=%{x}<br>y=%{y}<extra></extra>",
         "legendgroup": "2",
         "marker": {
          "color": "#FF6692",
          "symbol": "circle"
         },
         "mode": "markers",
         "name": "2",
         "orientation": "v",
         "showlegend": true,
         "type": "scatter",
         "x": [
          -1.0431772
         ],
         "xaxis": "x",
         "y": [
          1.5514468
         ],
         "yaxis": "y"
        }
       ],
       "layout": {
        "autosize": true,
        "legend": {
         "title": {
          "text": "cluster"
         },
         "tracegroupgap": 0
        },
        "margin": {
         "t": 60
        },
        "template": {
         "data": {
          "bar": [
           {
            "error_x": {
             "color": "#2a3f5f"
            },
            "error_y": {
             "color": "#2a3f5f"
            },
            "marker": {
             "line": {
              "color": "#E5ECF6",
              "width": 0.5
             }
            },
            "type": "bar"
           }
          ],
          "barpolar": [
           {
            "marker": {
             "line": {
              "color": "#E5ECF6",
              "width": 0.5
             }
            },
            "type": "barpolar"
           }
          ],
          "carpet": [
           {
            "aaxis": {
             "endlinecolor": "#2a3f5f",
             "gridcolor": "white",
             "linecolor": "white",
             "minorgridcolor": "white",
             "startlinecolor": "#2a3f5f"
            },
            "baxis": {
             "endlinecolor": "#2a3f5f",
             "gridcolor": "white",
             "linecolor": "white",
             "minorgridcolor": "white",
             "startlinecolor": "#2a3f5f"
            },
            "type": "carpet"
           }
          ],
          "choropleth": [
           {
            "colorbar": {
             "outlinewidth": 0,
             "ticks": ""
            },
            "type": "choropleth"
           }
          ],
          "contour": [
           {
            "colorbar": {
             "outlinewidth": 0,
             "ticks": ""
            },
            "colorscale": [
             [
              0,
              "#0d0887"
             ],
             [
              0.1111111111111111,
              "#46039f"
             ],
             [
              0.2222222222222222,
              "#7201a8"
             ],
             [
              0.3333333333333333,
              "#9c179e"
             ],
             [
              0.4444444444444444,
              "#bd3786"
             ],
             [
              0.5555555555555556,
              "#d8576b"
             ],
             [
              0.6666666666666666,
              "#ed7953"
             ],
             [
              0.7777777777777778,
              "#fb9f3a"
             ],
             [
              0.8888888888888888,
              "#fdca26"
             ],
             [
              1,
              "#f0f921"
             ]
            ],
            "type": "contour"
           }
          ],
          "contourcarpet": [
           {
            "colorbar": {
             "outlinewidth": 0,
             "ticks": ""
            },
            "type": "contourcarpet"
           }
          ],
          "heatmap": [
           {
            "colorbar": {
             "outlinewidth": 0,
             "ticks": ""
            },
            "colorscale": [
             [
              0,
              "#0d0887"
             ],
             [
              0.1111111111111111,
              "#46039f"
             ],
             [
              0.2222222222222222,
              "#7201a8"
             ],
             [
              0.3333333333333333,
              "#9c179e"
             ],
             [
              0.4444444444444444,
              "#bd3786"
             ],
             [
              0.5555555555555556,
              "#d8576b"
             ],
             [
              0.6666666666666666,
              "#ed7953"
             ],
             [
              0.7777777777777778,
              "#fb9f3a"
             ],
             [
              0.8888888888888888,
              "#fdca26"
             ],
             [
              1,
              "#f0f921"
             ]
            ],
            "type": "heatmap"
           }
          ],
          "heatmapgl": [
           {
            "colorbar": {
             "outlinewidth": 0,
             "ticks": ""
            },
            "colorscale": [
             [
              0,
              "#0d0887"
             ],
             [
              0.1111111111111111,
              "#46039f"
             ],
             [
              0.2222222222222222,
              "#7201a8"
             ],
             [
              0.3333333333333333,
              "#9c179e"
             ],
             [
              0.4444444444444444,
              "#bd3786"
             ],
             [
              0.5555555555555556,
              "#d8576b"
             ],
             [
              0.6666666666666666,
              "#ed7953"
             ],
             [
              0.7777777777777778,
              "#fb9f3a"
             ],
             [
              0.8888888888888888,
              "#fdca26"
             ],
             [
              1,
              "#f0f921"
             ]
            ],
            "type": "heatmapgl"
           }
          ],
          "histogram": [
           {
            "marker": {
             "colorbar": {
              "outlinewidth": 0,
              "ticks": ""
             }
            },
            "type": "histogram"
           }
          ],
          "histogram2d": [
           {
            "colorbar": {
             "outlinewidth": 0,
             "ticks": ""
            },
            "colorscale": [
             [
              0,
              "#0d0887"
             ],
             [
              0.1111111111111111,
              "#46039f"
             ],
             [
              0.2222222222222222,
              "#7201a8"
             ],
             [
              0.3333333333333333,
              "#9c179e"
             ],
             [
              0.4444444444444444,
              "#bd3786"
             ],
             [
              0.5555555555555556,
              "#d8576b"
             ],
             [
              0.6666666666666666,
              "#ed7953"
             ],
             [
              0.7777777777777778,
              "#fb9f3a"
             ],
             [
              0.8888888888888888,
              "#fdca26"
             ],
             [
              1,
              "#f0f921"
             ]
            ],
            "type": "histogram2d"
           }
          ],
          "histogram2dcontour": [
           {
            "colorbar": {
             "outlinewidth": 0,
             "ticks": ""
            },
            "colorscale": [
             [
              0,
              "#0d0887"
             ],
             [
              0.1111111111111111,
              "#46039f"
             ],
             [
              0.2222222222222222,
              "#7201a8"
             ],
             [
              0.3333333333333333,
              "#9c179e"
             ],
             [
              0.4444444444444444,
              "#bd3786"
             ],
             [
              0.5555555555555556,
              "#d8576b"
             ],
             [
              0.6666666666666666,
              "#ed7953"
             ],
             [
              0.7777777777777778,
              "#fb9f3a"
             ],
             [
              0.8888888888888888,
              "#fdca26"
             ],
             [
              1,
              "#f0f921"
             ]
            ],
            "type": "histogram2dcontour"
           }
          ],
          "mesh3d": [
           {
            "colorbar": {
             "outlinewidth": 0,
             "ticks": ""
            },
            "type": "mesh3d"
           }
          ],
          "parcoords": [
           {
            "line": {
             "colorbar": {
              "outlinewidth": 0,
              "ticks": ""
             }
            },
            "type": "parcoords"
           }
          ],
          "pie": [
           {
            "automargin": true,
            "type": "pie"
           }
          ],
          "scatter": [
           {
            "marker": {
             "colorbar": {
              "outlinewidth": 0,
              "ticks": ""
             }
            },
            "type": "scatter"
           }
          ],
          "scatter3d": [
           {
            "line": {
             "colorbar": {
              "outlinewidth": 0,
              "ticks": ""
             }
            },
            "marker": {
             "colorbar": {
              "outlinewidth": 0,
              "ticks": ""
             }
            },
            "type": "scatter3d"
           }
          ],
          "scattercarpet": [
           {
            "marker": {
             "colorbar": {
              "outlinewidth": 0,
              "ticks": ""
             }
            },
            "type": "scattercarpet"
           }
          ],
          "scattergeo": [
           {
            "marker": {
             "colorbar": {
              "outlinewidth": 0,
              "ticks": ""
             }
            },
            "type": "scattergeo"
           }
          ],
          "scattergl": [
           {
            "marker": {
             "colorbar": {
              "outlinewidth": 0,
              "ticks": ""
             }
            },
            "type": "scattergl"
           }
          ],
          "scattermapbox": [
           {
            "marker": {
             "colorbar": {
              "outlinewidth": 0,
              "ticks": ""
             }
            },
            "type": "scattermapbox"
           }
          ],
          "scatterpolar": [
           {
            "marker": {
             "colorbar": {
              "outlinewidth": 0,
              "ticks": ""
             }
            },
            "type": "scatterpolar"
           }
          ],
          "scatterpolargl": [
           {
            "marker": {
             "colorbar": {
              "outlinewidth": 0,
              "ticks": ""
             }
            },
            "type": "scatterpolargl"
           }
          ],
          "scatterternary": [
           {
            "marker": {
             "colorbar": {
              "outlinewidth": 0,
              "ticks": ""
             }
            },
            "type": "scatterternary"
           }
          ],
          "surface": [
           {
            "colorbar": {
             "outlinewidth": 0,
             "ticks": ""
            },
            "colorscale": [
             [
              0,
              "#0d0887"
             ],
             [
              0.1111111111111111,
              "#46039f"
             ],
             [
              0.2222222222222222,
              "#7201a8"
             ],
             [
              0.3333333333333333,
              "#9c179e"
             ],
             [
              0.4444444444444444,
              "#bd3786"
             ],
             [
              0.5555555555555556,
              "#d8576b"
             ],
             [
              0.6666666666666666,
              "#ed7953"
             ],
             [
              0.7777777777777778,
              "#fb9f3a"
             ],
             [
              0.8888888888888888,
              "#fdca26"
             ],
             [
              1,
              "#f0f921"
             ]
            ],
            "type": "surface"
           }
          ],
          "table": [
           {
            "cells": {
             "fill": {
              "color": "#EBF0F8"
             },
             "line": {
              "color": "white"
             }
            },
            "header": {
             "fill": {
              "color": "#C8D4E3"
             },
             "line": {
              "color": "white"
             }
            },
            "type": "table"
           }
          ]
         },
         "layout": {
          "annotationdefaults": {
           "arrowcolor": "#2a3f5f",
           "arrowhead": 0,
           "arrowwidth": 1
          },
          "autotypenumbers": "strict",
          "coloraxis": {
           "colorbar": {
            "outlinewidth": 0,
            "ticks": ""
           }
          },
          "colorscale": {
           "diverging": [
            [
             0,
             "#8e0152"
            ],
            [
             0.1,
             "#c51b7d"
            ],
            [
             0.2,
             "#de77ae"
            ],
            [
             0.3,
             "#f1b6da"
            ],
            [
             0.4,
             "#fde0ef"
            ],
            [
             0.5,
             "#f7f7f7"
            ],
            [
             0.6,
             "#e6f5d0"
            ],
            [
             0.7,
             "#b8e186"
            ],
            [
             0.8,
             "#7fbc41"
            ],
            [
             0.9,
             "#4d9221"
            ],
            [
             1,
             "#276419"
            ]
           ],
           "sequential": [
            [
             0,
             "#0d0887"
            ],
            [
             0.1111111111111111,
             "#46039f"
            ],
            [
             0.2222222222222222,
             "#7201a8"
            ],
            [
             0.3333333333333333,
             "#9c179e"
            ],
            [
             0.4444444444444444,
             "#bd3786"
            ],
            [
             0.5555555555555556,
             "#d8576b"
            ],
            [
             0.6666666666666666,
             "#ed7953"
            ],
            [
             0.7777777777777778,
             "#fb9f3a"
            ],
            [
             0.8888888888888888,
             "#fdca26"
            ],
            [
             1,
             "#f0f921"
            ]
           ],
           "sequentialminus": [
            [
             0,
             "#0d0887"
            ],
            [
             0.1111111111111111,
             "#46039f"
            ],
            [
             0.2222222222222222,
             "#7201a8"
            ],
            [
             0.3333333333333333,
             "#9c179e"
            ],
            [
             0.4444444444444444,
             "#bd3786"
            ],
            [
             0.5555555555555556,
             "#d8576b"
            ],
            [
             0.6666666666666666,
             "#ed7953"
            ],
            [
             0.7777777777777778,
             "#fb9f3a"
            ],
            [
             0.8888888888888888,
             "#fdca26"
            ],
            [
             1,
             "#f0f921"
            ]
           ]
          },
          "colorway": [
           "#636efa",
           "#EF553B",
           "#00cc96",
           "#ab63fa",
           "#FFA15A",
           "#19d3f3",
           "#FF6692",
           "#B6E880",
           "#FF97FF",
           "#FECB52"
          ],
          "font": {
           "color": "#2a3f5f"
          },
          "geo": {
           "bgcolor": "white",
           "lakecolor": "white",
           "landcolor": "#E5ECF6",
           "showlakes": true,
           "showland": true,
           "subunitcolor": "white"
          },
          "hoverlabel": {
           "align": "left"
          },
          "hovermode": "closest",
          "mapbox": {
           "style": "light"
          },
          "paper_bgcolor": "white",
          "plot_bgcolor": "#E5ECF6",
          "polar": {
           "angularaxis": {
            "gridcolor": "white",
            "linecolor": "white",
            "ticks": ""
           },
           "bgcolor": "#E5ECF6",
           "radialaxis": {
            "gridcolor": "white",
            "linecolor": "white",
            "ticks": ""
           }
          },
          "scene": {
           "xaxis": {
            "backgroundcolor": "#E5ECF6",
            "gridcolor": "white",
            "gridwidth": 2,
            "linecolor": "white",
            "showbackground": true,
            "ticks": "",
            "zerolinecolor": "white"
           },
           "yaxis": {
            "backgroundcolor": "#E5ECF6",
            "gridcolor": "white",
            "gridwidth": 2,
            "linecolor": "white",
            "showbackground": true,
            "ticks": "",
            "zerolinecolor": "white"
           },
           "zaxis": {
            "backgroundcolor": "#E5ECF6",
            "gridcolor": "white",
            "gridwidth": 2,
            "linecolor": "white",
            "showbackground": true,
            "ticks": "",
            "zerolinecolor": "white"
           }
          },
          "shapedefaults": {
           "line": {
            "color": "#2a3f5f"
           }
          },
          "ternary": {
           "aaxis": {
            "gridcolor": "white",
            "linecolor": "white",
            "ticks": ""
           },
           "baxis": {
            "gridcolor": "white",
            "linecolor": "white",
            "ticks": ""
           },
           "bgcolor": "#E5ECF6",
           "caxis": {
            "gridcolor": "white",
            "linecolor": "white",
            "ticks": ""
           }
          },
          "title": {
           "x": 0.05
          },
          "xaxis": {
           "automargin": true,
           "gridcolor": "white",
           "linecolor": "white",
           "ticks": "",
           "title": {
            "standoff": 15
           },
           "zerolinecolor": "white",
           "zerolinewidth": 2
          },
          "yaxis": {
           "automargin": true,
           "gridcolor": "white",
           "linecolor": "white",
           "ticks": "",
           "title": {
            "standoff": 15
           },
           "zerolinecolor": "white",
           "zerolinewidth": 2
          }
         }
        },
        "xaxis": {
         "anchor": "y",
         "autorange": true,
         "domain": [
          0,
          1
         ],
         "range": [
          -1.319422023777933,
          1.227529723777933
         ],
         "title": {
          "text": "x"
         },
         "type": "linear"
        },
        "yaxis": {
         "anchor": "x",
         "autorange": true,
         "domain": [
          0,
          1
         ],
         "range": [
          -1.3966779558011049,
          3.052537955801105
         ],
         "title": {
          "text": "y"
         },
         "type": "linear"
        }
       }
      },
      "image/png": "[encoded data removed]",
      "text/html": [
       "<div>                            <div id=\"96e306ee-40b0-454a-bfd0-b445e45be19e\" class=\"plotly-graph-div\" style=\"height:525px; width:100%;\"></div>            <script type=\"text/javascript\">                require([\"plotly\"], function(Plotly) {                    window.PLOTLYENV=window.PLOTLYENV || {};                                    if (document.getElementById(\"96e306ee-40b0-454a-bfd0-b445e45be19e\")) {                    Plotly.newPlot(                        \"96e306ee-40b0-454a-bfd0-b445e45be19e\",                        [{\"hovertemplate\": \"cluster=0<br>x=%{x}<br>y=%{y}<extra></extra>\", \"legendgroup\": \"0\", \"marker\": {\"color\": \"#636efa\", \"symbol\": \"circle\"}, \"mode\": \"markers\", \"name\": \"0\", \"orientation\": \"v\", \"showlegend\": true, \"type\": \"scatter\", \"x\": [-1.1821564, -1.1821564, -1.1821564, -1.1821564, -1.1030256, -1.1821564, -1.1821564, -1.1821564, -1.1821564, -1.1821564, -1.1821564, -1.1821564, -1.1821564, -1.1821564, -0.6296925, -1.1821564, -1.1387, -1.1821564, -1.1821564, -1.1821564, -0.8916573, -1.1821564, -1.1821564, -1.1387, -1.1821564, -1.1821564, -0.96787924, -0.6296925, -1.1821564, -1.1821564, -1.1821564, -1.1821564], \"xaxis\": \"x\", \"y\": [-0.5584184, -0.5584184, -0.5584184, -0.5584184, -1.120396, -0.5584184, -0.5584184, -0.5584184, -0.5584184, -0.5584184, -0.5584184, -0.5584184, -0.5584184, -0.5584184, -0.41322777, -0.5584184, 0.17017953, -0.5584184, -0.5584184, -0.5584184, -0.85710144, -0.5584184, -0.5584184, 0.17017953, -0.5584184, -0.5584184, 0.26575586, -0.41322777, -0.5584184, -0.5584184, -0.5584184, -0.5584184], \"yaxis\": \"y\"}, {\"hovertemplate\": \"cluster=5<br>x=%{x}<br>y=%{y}<extra></extra>\", \"legendgroup\": \"5\", \"marker\": {\"color\": \"#EF553B\", \"symbol\": \"circle\"}, \"mode\": \"markers\", \"name\": \"5\", \"orientation\": \"v\", \"showlegend\": true, \"type\": \"scatter\", \"x\": [-0.3273211, 0.70028967, -0.15110172], \"xaxis\": \"x\", \"y\": [0.5354494, 1.3398173, 0.14934067], \"yaxis\": \"y\"}, {\"hovertemplate\": \"cluster=9<br>x=%{x}<br>y=%{y}<extra></extra>\", \"legendgroup\": \"9\", \"marker\": {\"color\": \"#00cc96\", \"symbol\": \"circle\"}, \"mode\": \"markers\", \"name\": \"9\", \"orientation\": \"v\", \"showlegend\": true, \"type\": \"scatter\", \"x\": [-0.7022841, -0.11226242, -0.7022841, -0.11226242, -0.11226242, -0.11226242], \"xaxis\": \"x\", \"y\": [-1.0900956, -0.48036543, -1.0900956, -0.48036543, -0.48036543, -0.48036543], \"yaxis\": \"y\"}, {\"hovertemplate\": \"cluster=4<br>x=%{x}<br>y=%{y}<extra></extra>\", \"legendgroup\": \"4\", \"marker\": {\"color\": \"#ab63fa\", \"symbol\": \"circle\"}, \"mode\": \"markers\", \"name\": \"4\", \"orientation\": \"v\", \"showlegend\": true, \"type\": \"scatter\", \"x\": [-0.31103122, 1.0902641, -0.26730612, 0.5356999, -0.26730612, -0.26730612, -0.26730612], \"xaxis\": \"x\", \"y\": [-0.5715036, -0.0023778745, 0.1749508, 0.512453, 0.1749508, 0.1749508, 0.1749508], \"yaxis\": \"y\"}, {\"hovertemplate\": \"cluster=3<br>x=%{x}<br>y=%{y}<extra></extra>\", \"legendgroup\": \"3\", \"marker\": {\"color\": \"#FFA15A\", \"symbol\": \"circle\"}, \"mode\": \"markers\", \"name\": \"3\", \"orientation\": \"v\", \"showlegend\": true, \"type\": \"scatter\", \"x\": [0.4019698, -0.02258631, 0.26285654, 0.9237456, -0.5529287, -0.49350274, -0.13106355, -0.20670095], \"xaxis\": \"x\", \"y\": [0.60138, 1.3510605, 0.3084441, 0.7771503, 0.021129832, -0.08290862, 0.9824679, 0.7916013], \"yaxis\": \"y\"}, {\"hovertemplate\": \"cluster=6<br>x=%{x}<br>y=%{y}<extra></extra>\", \"legendgroup\": \"6\", \"marker\": {\"color\": \"#19d3f3\", \"symbol\": \"circle\"}, \"mode\": \"markers\", \"name\": \"6\", \"orientation\": \"v\", \"showlegend\": true, \"type\": \"scatter\", \"x\": [-0.89126295, -0.90590394, -0.6453052, -0.90590394, -0.96983695], \"xaxis\": \"x\", \"y\": [2.4660552, 2.0696611, 2.776256, 2.0696611, 1.801097], \"yaxis\": \"y\"}, {\"hovertemplate\": \"cluster=2<br>x=%{x}<br>y=%{y}<extra></extra>\", \"legendgroup\": \"2\", \"marker\": {\"color\": \"#FF6692\", \"symbol\": \"circle\"}, \"mode\": \"markers\", \"name\": \"2\", \"orientation\": \"v\", \"showlegend\": true, \"type\": \"scatter\", \"x\": [-1.0431772], \"xaxis\": \"x\", \"y\": [1.5514468], \"yaxis\": \"y\"}],                        {\"legend\": {\"title\": {\"text\": \"cluster\"}, \"tracegroupgap\": 0}, \"margin\": {\"t\": 60}, \"template\": {\"data\": {\"bar\": [{\"error_x\": {\"color\": \"#2a3f5f\"}, \"error_y\": {\"color\": \"#2a3f5f\"}, \"marker\": {\"line\": {\"color\": \"#E5ECF6\", \"width\": 0.5}}, \"type\": \"bar\"}], \"barpolar\": [{\"marker\": {\"line\": {\"color\": \"#E5ECF6\", \"width\": 0.5}}, \"type\": \"barpolar\"}], \"carpet\": [{\"aaxis\": {\"endlinecolor\": \"#2a3f5f\", \"gridcolor\": \"white\", \"linecolor\": \"white\", \"minorgridcolor\": \"white\", \"startlinecolor\": \"#2a3f5f\"}, \"baxis\": {\"endlinecolor\": \"#2a3f5f\", \"gridcolor\": \"white\", \"linecolor\": \"white\", \"minorgridcolor\": \"white\", \"startlinecolor\": \"#2a3f5f\"}, \"type\": \"carpet\"}], \"choropleth\": [{\"colorbar\": {\"outlinewidth\": 0, \"ticks\": \"\"}, \"type\": \"choropleth\"}], \"contour\": [{\"colorbar\": {\"outlinewidth\": 0, \"ticks\": \"\"}, \"colorscale\": [[0.0, \"#0d0887\"], [0.1111111111111111, \"#46039f\"], [0.2222222222222222, \"#7201a8\"], [0.3333333333333333, \"#9c179e\"], [0.4444444444444444, \"#bd3786\"], [0.5555555555555556, \"#d8576b\"], [0.6666666666666666, \"#ed7953\"], [0.7777777777777778, \"#fb9f3a\"], [0.8888888888888888, \"#fdca26\"], [1.0, \"#f0f921\"]], \"type\": \"contour\"}], \"contourcarpet\": [{\"colorbar\": {\"outlinewidth\": 0, \"ticks\": \"\"}, \"type\": \"contourcarpet\"}], \"heatmap\": [{\"colorbar\": {\"outlinewidth\": 0, \"ticks\": \"\"}, \"colorscale\": [[0.0, \"#0d0887\"], [0.1111111111111111, \"#46039f\"], [0.2222222222222222, \"#7201a8\"], [0.3333333333333333, \"#9c179e\"], [0.4444444444444444, \"#bd3786\"], [0.5555555555555556, \"#d8576b\"], [0.6666666666666666, \"#ed7953\"], [0.7777777777777778, \"#fb9f3a\"], [0.8888888888888888, \"#fdca26\"], [1.0, \"#f0f921\"]], \"type\": \"heatmap\"}], \"heatmapgl\": [{\"colorbar\": {\"outlinewidth\": 0, \"ticks\": \"\"}, \"colorscale\": [[0.0, \"#0d0887\"], [0.1111111111111111, \"#46039f\"], [0.2222222222222222, \"#7201a8\"], [0.3333333333333333, \"#9c179e\"], [0.4444444444444444, \"#bd3786\"], [0.5555555555555556, \"#d8576b\"], [0.6666666666666666, \"#ed7953\"], [0.7777777777777778, \"#fb9f3a\"], [0.8888888888888888, \"#fdca26\"], [1.0, \"#f0f921\"]], \"type\": \"heatmapgl\"}], \"histogram\": [{\"marker\": {\"colorbar\": {\"outlinewidth\": 0, \"ticks\": \"\"}}, \"type\": \"histogram\"}], \"histogram2d\": [{\"colorbar\": {\"outlinewidth\": 0, \"ticks\": \"\"}, \"colorscale\": [[0.0, \"#0d0887\"], [0.1111111111111111, \"#46039f\"], [0.2222222222222222, \"#7201a8\"], [0.3333333333333333, \"#9c179e\"], [0.4444444444444444, \"#bd3786\"], [0.5555555555555556, \"#d8576b\"], [0.6666666666666666, \"#ed7953\"], [0.7777777777777778, \"#fb9f3a\"], [0.8888888888888888, \"#fdca26\"], [1.0, \"#f0f921\"]], \"type\": \"histogram2d\"}], \"histogram2dcontour\": [{\"colorbar\": {\"outlinewidth\": 0, \"ticks\": \"\"}, \"colorscale\": [[0.0, \"#0d0887\"], [0.1111111111111111, \"#46039f\"], [0.2222222222222222, \"#7201a8\"], [0.3333333333333333, \"#9c179e\"], [0.4444444444444444, \"#bd3786\"], [0.5555555555555556, \"#d8576b\"], [0.6666666666666666, \"#ed7953\"], [0.7777777777777778, \"#fb9f3a\"], [0.8888888888888888, \"#fdca26\"], [1.0, \"#f0f921\"]], \"type\": \"histogram2dcontour\"}], \"mesh3d\": [{\"colorbar\": {\"outlinewidth\": 0, \"ticks\": \"\"}, \"type\": \"mesh3d\"}], \"parcoords\": [{\"line\": {\"colorbar\": {\"outlinewidth\": 0, \"ticks\": \"\"}}, \"type\": \"parcoords\"}], \"pie\": [{\"automargin\": true, \"type\": \"pie\"}], \"scatter\": [{\"marker\": {\"colorbar\": {\"outlinewidth\": 0, \"ticks\": \"\"}}, \"type\": \"scatter\"}], \"scatter3d\": [{\"line\": {\"colorbar\": {\"outlinewidth\": 0, \"ticks\": \"\"}}, \"marker\": {\"colorbar\": {\"outlinewidth\": 0, \"ticks\": \"\"}}, \"type\": \"scatter3d\"}], \"scattercarpet\": [{\"marker\": {\"colorbar\": {\"outlinewidth\": 0, \"ticks\": \"\"}}, \"type\": \"scattercarpet\"}], \"scattergeo\": [{\"marker\": {\"colorbar\": {\"outlinewidth\": 0, \"ticks\": \"\"}}, \"type\": \"scattergeo\"}], \"scattergl\": [{\"marker\": {\"colorbar\": {\"outlinewidth\": 0, \"ticks\": \"\"}}, \"type\": \"scattergl\"}], \"scattermapbox\": [{\"marker\": {\"colorbar\": {\"outlinewidth\": 0, \"ticks\": \"\"}}, \"type\": \"scattermapbox\"}], \"scatterpolar\": [{\"marker\": {\"colorbar\": {\"outlinewidth\": 0, \"ticks\": \"\"}}, \"type\": \"scatterpolar\"}], \"scatterpolargl\": [{\"marker\": {\"colorbar\": {\"outlinewidth\": 0, \"ticks\": \"\"}}, \"type\": \"scatterpolargl\"}], \"scatterternary\": [{\"marker\": {\"colorbar\": {\"outlinewidth\": 0, \"ticks\": \"\"}}, \"type\": \"scatterternary\"}], \"surface\": [{\"colorbar\": {\"outlinewidth\": 0, \"ticks\": \"\"}, \"colorscale\": [[0.0, \"#0d0887\"], [0.1111111111111111, \"#46039f\"], [0.2222222222222222, \"#7201a8\"], [0.3333333333333333, \"#9c179e\"], [0.4444444444444444, \"#bd3786\"], [0.5555555555555556, \"#d8576b\"], [0.6666666666666666, \"#ed7953\"], [0.7777777777777778, \"#fb9f3a\"], [0.8888888888888888, \"#fdca26\"], [1.0, \"#f0f921\"]], \"type\": \"surface\"}], \"table\": [{\"cells\": {\"fill\": {\"color\": \"#EBF0F8\"}, \"line\": {\"color\": \"white\"}}, \"header\": {\"fill\": {\"color\": \"#C8D4E3\"}, \"line\": {\"color\": \"white\"}}, \"type\": \"table\"}]}, \"layout\": {\"annotationdefaults\": {\"arrowcolor\": \"#2a3f5f\", \"arrowhead\": 0, \"arrowwidth\": 1}, \"autotypenumbers\": \"strict\", \"coloraxis\": {\"colorbar\": {\"outlinewidth\": 0, \"ticks\": \"\"}}, \"colorscale\": {\"diverging\": [[0, \"#8e0152\"], [0.1, \"#c51b7d\"], [0.2, \"#de77ae\"], [0.3, \"#f1b6da\"], [0.4, \"#fde0ef\"], [0.5, \"#f7f7f7\"], [0.6, \"#e6f5d0\"], [0.7, \"#b8e186\"], [0.8, \"#7fbc41\"], [0.9, \"#4d9221\"], [1, \"#276419\"]], \"sequential\": [[0.0, \"#0d0887\"], [0.1111111111111111, \"#46039f\"], [0.2222222222222222, \"#7201a8\"], [0.3333333333333333, \"#9c179e\"], [0.4444444444444444, \"#bd3786\"], [0.5555555555555556, \"#d8576b\"], [0.6666666666666666, \"#ed7953\"], [0.7777777777777778, \"#fb9f3a\"], [0.8888888888888888, \"#fdca26\"], [1.0, \"#f0f921\"]], \"sequentialminus\": [[0.0, \"#0d0887\"], [0.1111111111111111, \"#46039f\"], [0.2222222222222222, \"#7201a8\"], [0.3333333333333333, \"#9c179e\"], [0.4444444444444444, \"#bd3786\"], [0.5555555555555556, \"#d8576b\"], [0.6666666666666666, \"#ed7953\"], [0.7777777777777778, \"#fb9f3a\"], [0.8888888888888888, \"#fdca26\"], [1.0, \"#f0f921\"]]}, \"colorway\": [\"#636efa\", \"#EF553B\", \"#00cc96\", \"#ab63fa\", \"#FFA15A\", \"#19d3f3\", \"#FF6692\", \"#B6E880\", \"#FF97FF\", \"#FECB52\"], \"font\": {\"color\": \"#2a3f5f\"}, \"geo\": {\"bgcolor\": \"white\", \"lakecolor\": \"white\", \"landcolor\": \"#E5ECF6\", \"showlakes\": true, \"showland\": true, \"subunitcolor\": \"white\"}, \"hoverlabel\": {\"align\": \"left\"}, \"hovermode\": \"closest\", \"mapbox\": {\"style\": \"light\"}, \"paper_bgcolor\": \"white\", \"plot_bgcolor\": \"#E5ECF6\", \"polar\": {\"angularaxis\": {\"gridcolor\": \"white\", \"linecolor\": \"white\", \"ticks\": \"\"}, \"bgcolor\": \"#E5ECF6\", \"radialaxis\": {\"gridcolor\": \"white\", \"linecolor\": \"white\", \"ticks\": \"\"}}, \"scene\": {\"xaxis\": {\"backgroundcolor\": \"#E5ECF6\", \"gridcolor\": \"white\", \"gridwidth\": 2, \"linecolor\": \"white\", \"showbackground\": true, \"ticks\": \"\", \"zerolinecolor\": \"white\"}, \"yaxis\": {\"backgroundcolor\": \"#E5ECF6\", \"gridcolor\": \"white\", \"gridwidth\": 2, \"linecolor\": \"white\", \"showbackground\": true, \"ticks\": \"\", \"zerolinecolor\": \"white\"}, \"zaxis\": {\"backgroundcolor\": \"#E5ECF6\", \"gridcolor\": \"white\", \"gridwidth\": 2, \"linecolor\": \"white\", \"showbackground\": true, \"ticks\": \"\", \"zerolinecolor\": \"white\"}}, \"shapedefaults\": {\"line\": {\"color\": \"#2a3f5f\"}}, \"ternary\": {\"aaxis\": {\"gridcolor\": \"white\", \"linecolor\": \"white\", \"ticks\": \"\"}, \"baxis\": {\"gridcolor\": \"white\", \"linecolor\": \"white\", \"ticks\": \"\"}, \"bgcolor\": \"#E5ECF6\", \"caxis\": {\"gridcolor\": \"white\", \"linecolor\": \"white\", \"ticks\": \"\"}}, \"title\": {\"x\": 0.05}, \"xaxis\": {\"automargin\": true, \"gridcolor\": \"white\", \"linecolor\": \"white\", \"ticks\": \"\", \"title\": {\"standoff\": 15}, \"zerolinecolor\": \"white\", \"zerolinewidth\": 2}, \"yaxis\": {\"automargin\": true, \"gridcolor\": \"white\", \"linecolor\": \"white\", \"ticks\": \"\", \"title\": {\"standoff\": 15}, \"zerolinecolor\": \"white\", \"zerolinewidth\": 2}}}, \"xaxis\": {\"anchor\": \"y\", \"domain\": [0.0, 1.0], \"title\": {\"text\": \"x\"}}, \"yaxis\": {\"anchor\": \"x\", \"domain\": [0.0, 1.0], \"title\": {\"text\": \"y\"}}},                        {\"responsive\": true}                    ).then(function(){\n",
       "                            \n",
       "var gd = document.getElementById('96e306ee-40b0-454a-bfd0-b445e45be19e');\n",
       "var x = new MutationObserver(function (mutations, observer) {{\n",
       "        var display = window.getComputedStyle(gd).display;\n",
       "        if (!display || display === 'none') {{\n",
       "            console.log([gd, 'removed!']);\n",
       "            Plotly.purge(gd);\n",
       "            observer.disconnect();\n",
       "        }}\n",
       "}});\n",
       "\n",
       "// Listen for the removal of the full notebook cells\n",
       "var notebookContainer = gd.closest('#notebook-container');\n",
       "if (notebookContainer) {{\n",
       "    x.observe(notebookContainer, {childList: true});\n",
       "}}\n",
       "\n",
       "// Listen for the clearing of the current output cell\n",
       "var outputEl = gd.closest('.output');\n",
       "if (outputEl) {{\n",
       "    x.observe(outputEl, {childList: true});\n",
       "}}\n",
       "\n",
       "                        })                };                });            </script>        </div>"
      ]
     },
     "metadata": {},
     "output_type": "display_data"
    }
   ],
   "source": [
    "df_plot['x'] = df_plot.x.astype(float)\n",
    "df_plot['y'] = df_plot.y.astype(float)\n",
    "print(df_plot.dtypes)\n",
    "print(min(df_plot['x']), max(df_plot['x']))\n",
    "print(min(df_plot['y']), max(df_plot['y']))\n",
    "\n",
    "x_min, x_max = min(df_plot['x']), max(df_plot['x'])\n",
    "y_min, y_max = min(df_plot['y']), max(df_plot['y'])\n",
    "\n",
    "px.scatter(df_plot[df_plot['time_frame'] == 40.1], x=\"x\", y=\"y\", color=\"cluster\")"
   ]
  },
  {
   "cell_type": "code",
   "execution_count": 11,
   "id": "disturbed-grove",
   "metadata": {},
   "outputs": [],
   "source": [
    "fig = px.scatter(df_plot[df_plot['time_frame'] < 10], x=\"x\", y=\"y\", animation_frame=\"time_frame\",\n",
    "           color=\"cluster\")\n",
    "\n",
    "fig.write_image(\"fig1.png\")"
   ]
  },
  {
   "cell_type": "code",
   "execution_count": 50,
   "id": "organizational-polyester",
   "metadata": {},
   "outputs": [
    {
     "name": "stdout",
     "output_type": "stream",
     "text": [
      "{'0': '#0b132b', '1': '#1c2541', '2': '#3a506b', '3': '#5bc0be', '4': '#ffffff', '5': '#b56576', '6': '#e56b6f', '7': '#eaac8b', '8': '#b33f62', '9': '#f9564f'}\n"
     ]
    }
   ],
   "source": [
    "if not os.path.exists(\"images\"):\n",
    "    os.mkdir(\"images\")\n",
    "    \n",
    "counter = 0    \n",
    "\n",
    "colors = [\"#0b132b\",\"#1c2541\",\"#3a506b\",\"#5bc0be\",\"#ffffff\",\"#b56576\",\"#e56b6f\",\"#eaac8b\",\"#b33f62\",\"#f9564f\"]\n",
    "\n",
    "color_map={}\n",
    "\n",
    "for i in range(10):\n",
    "    color_map[f\"{i}\"] = colors[i]\n",
    "    \n",
    "print(color_map)\n",
    "\n",
    "for frame in timeline: \n",
    "    fig = px.scatter(df_plot[df_plot['time_frame'] == frame], x=\"x\", y=\"y\",\n",
    "                     color=\"cluster\", \n",
    "                     text=\"msg_clean\",\n",
    "                    range_x=[x_min-0.1,x_max+0.1], range_y=[y_min-0.1,y_max+0.1],\n",
    "                    color_discrete_map=color_map)\n",
    "    \n",
    "    fig.update_traces(textposition='top center')\n",
    "\n",
    "    fig.write_image(f\"images/{counter}_frame.png\")\n",
    "    counter+=1"
   ]
  },
  {
   "cell_type": "code",
   "execution_count": 45,
   "id": "driving-terror",
   "metadata": {},
   "outputs": [],
   "source": []
  },
  {
   "cell_type": "code",
   "execution_count": null,
   "id": "touched-renaissance",
   "metadata": {},
   "outputs": [
    {
     "name": "stdout",
     "output_type": "stream",
     "text": [
      "/Users/calvinlu/Documents/bot/TwitchSonification/visualization\n",
      "601  images loaded\n"
     ]
    }
   ],
   "source": [
    "import imageio\n",
    "\n",
    "gif_name = \"first_run\"\n",
    "print(os.getcwd())\n",
    "\n",
    "filenames = []\n",
    "for i in range(counter): \n",
    "    filenames.append(f\"./images/{i}_frame.png\")\n",
    "\n",
    "images = []\n",
    "for filename in filenames:\n",
    "    images.append(imageio.imread(filename))\n",
    "print(len(images), \" images loaded\")\n",
    "imageio.mimsave(f'{gif_name}.gif', images, duration=0.1)\n",
    "print('gif complete')"
   ]
  },
  {
   "cell_type": "code",
   "execution_count": null,
   "id": "fitting-accessory",
   "metadata": {},
   "outputs": [],
   "source": []
  },
  {
   "cell_type": "code",
   "execution_count": null,
   "id": "dirty-forest",
   "metadata": {},
   "outputs": [],
   "source": []
  },
  {
   "cell_type": "code",
   "execution_count": null,
   "id": "thick-paradise",
   "metadata": {},
   "outputs": [],
   "source": []
  },
  {
   "cell_type": "code",
   "execution_count": null,
   "id": "seventh-rubber",
   "metadata": {},
   "outputs": [],
   "source": []
  },
  {
   "cell_type": "code",
   "execution_count": null,
   "id": "departmental-violation",
   "metadata": {},
   "outputs": [],
   "source": []
  },
  {
   "cell_type": "code",
   "execution_count": null,
   "id": "intelligent-grain",
   "metadata": {},
   "outputs": [],
   "source": []
  },
  {
   "cell_type": "code",
   "execution_count": null,
   "id": "helpful-operation",
   "metadata": {},
   "outputs": [],
   "source": []
  }
 ],
 "metadata": {
  "kernelspec": {
   "display_name": "Python 3",
   "language": "python",
   "name": "python3"
  },
  "language_info": {
   "codemirror_mode": {
    "name": "ipython",
    "version": 3
   },
   "file_extension": ".py",
   "mimetype": "text/x-python",
   "name": "python",
   "nbconvert_exporter": "python",
   "pygments_lexer": "ipython3",
   "version": "3.8.5"
  }
 },
 "nbformat": 4,
 "nbformat_minor": 5
}
